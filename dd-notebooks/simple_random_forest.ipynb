{
 "cells": [
  {
   "cell_type": "code",
   "execution_count": 63,
   "metadata": {
    "collapsed": false,
    "jupyter": {
     "outputs_hidden": false
    },
    "ExecuteTime": {
     "end_time": "2024-04-16T05:56:17.580235Z",
     "start_time": "2024-04-16T05:56:17.575988Z"
    }
   },
   "outputs": [],
   "source": [
    "import time\n",
    "\n",
    "import pandas as pd\n",
    "\n",
    "from sklearn.ensemble import RandomForestRegressor\n",
    "from sklearn.metrics import mean_absolute_error, mean_squared_error, root_mean_squared_error, r2_score"
   ]
  },
  {
   "cell_type": "markdown",
   "source": [
    "# Data Preprocessing"
   ],
   "metadata": {
    "collapsed": false
   }
  },
  {
   "cell_type": "code",
   "execution_count": 7,
   "metadata": {
    "collapsed": false,
    "jupyter": {
     "outputs_hidden": false
    },
    "ExecuteTime": {
     "end_time": "2024-04-16T03:34:47.824911Z",
     "start_time": "2024-04-16T03:34:42.633079Z"
    }
   },
   "outputs": [],
   "source": [
    "# Using small dataset for now\n",
    "TRAIN_END_DATE = 80\n",
    "TEST_END_DATE = 100\n",
    "df = pd.read_csv('../archive/optiver2023/train.csv')\n",
    "df = df[df['date_id'] <= TEST_END_DATE]\n",
    "df.info()"
   ]
  },
  {
   "cell_type": "code",
   "execution_count": 8,
   "outputs": [
    {
     "data": {
      "text/plain": "stock_id                        0\ndate_id                         0\nseconds_in_bucket               0\nimbalance_size                 55\nimbalance_buy_sell_flag         0\nreference_price                55\nmatched_size                   55\nfar_price                  596247\nnear_price                 588085\nbid_price                      55\nbid_size                        0\nask_price                      55\nask_size                        0\nwap                            55\ntarget                         31\ntime_id                         0\nrow_id                          0\ndtype: int64"
     },
     "execution_count": 8,
     "metadata": {},
     "output_type": "execute_result"
    }
   ],
   "source": [
    "# Checking missing values\n",
    "# Far price and near price have a lot of missing values, because this data is only available for last 5 minutes.\n",
    "# Setting them up to 0 may potentially confuse the model\n",
    "# For now, we will drop these rows\n",
    "df.isna().sum()"
   ],
   "metadata": {
    "collapsed": false,
    "ExecuteTime": {
     "end_time": "2024-04-16T03:35:13.857785Z",
     "start_time": "2024-04-16T03:35:13.822668Z"
    }
   }
  },
  {
   "cell_type": "code",
   "execution_count": 21,
   "outputs": [],
   "source": [
    "# Using only last 5 minutes data so that we have less missing values\n",
    "df = df[df['seconds_in_bucket'] >= 300]\n",
    "df = df.fillna(0)"
   ],
   "metadata": {
    "collapsed": false,
    "ExecuteTime": {
     "end_time": "2024-04-16T03:59:38.381932Z",
     "start_time": "2024-04-16T03:59:38.352450Z"
    }
   }
  },
  {
   "cell_type": "markdown",
   "source": [
    "## Split into train and test data"
   ],
   "metadata": {
    "collapsed": false
   }
  },
  {
   "cell_type": "code",
   "execution_count": 36,
   "outputs": [],
   "source": [
    "train_df = df[df['date_id'] <= TRAIN_END_DATE]\n",
    "test_df = df[(df['date_id'] > TRAIN_END_DATE) & (df['date_id'] <= TEST_END_DATE)]\n",
    "train_df.reset_index(drop=True, inplace=True)\n",
    "test_df.reset_index(drop=True, inplace=True)\n",
    "del df"
   ],
   "metadata": {
    "collapsed": false,
    "ExecuteTime": {
     "end_time": "2024-04-16T04:27:04.939767Z",
     "start_time": "2024-04-16T04:27:04.874722Z"
    }
   }
  },
  {
   "cell_type": "code",
   "execution_count": 37,
   "outputs": [
    {
     "data": {
      "text/plain": "(196, 81, 25)"
     },
     "execution_count": 37,
     "metadata": {},
     "output_type": "execute_result"
    }
   ],
   "source": [
    "num_stocks = train_df['stock_id'].nunique()\n",
    "num_dates = train_df['date_id'].nunique()\n",
    "num_updates = train_df[\"seconds_in_bucket\"].nunique()\n",
    "num_stocks, num_dates, num_updates"
   ],
   "metadata": {
    "collapsed": false,
    "ExecuteTime": {
     "end_time": "2024-04-16T04:27:09.709912Z",
     "start_time": "2024-04-16T04:27:09.536101Z"
    }
   }
  },
  {
   "cell_type": "code",
   "execution_count": 38,
   "outputs": [
    {
     "data": {
      "text/plain": "(197, 20, 25)"
     },
     "execution_count": 38,
     "metadata": {},
     "output_type": "execute_result"
    }
   ],
   "source": [
    "num_stocks = test_df['stock_id'].nunique()\n",
    "num_dates = test_df['date_id'].nunique()\n",
    "num_updates = test_df[\"seconds_in_bucket\"].nunique()\n",
    "num_stocks, num_dates, num_updates"
   ],
   "metadata": {
    "collapsed": false,
    "ExecuteTime": {
     "end_time": "2024-04-16T04:27:24.755944Z",
     "start_time": "2024-04-16T04:27:24.751771Z"
    }
   }
  },
  {
   "cell_type": "code",
   "execution_count": 41,
   "outputs": [
    {
     "data": {
      "text/plain": "({199}, set())"
     },
     "execution_count": 41,
     "metadata": {},
     "output_type": "execute_result"
    }
   ],
   "source": [
    "# Check if all stocks are present in both train and test data\n",
    "test_stock_ids = set(test_df['stock_id'])\n",
    "train_stock_ids = set(train_df['stock_id'])\n",
    "\n",
    "test_not_in_train = test_stock_ids - train_stock_ids\n",
    "train_not_in_test = train_stock_ids - test_stock_ids\n",
    "test_not_in_train, train_not_in_test"
   ],
   "metadata": {
    "collapsed": false,
    "ExecuteTime": {
     "end_time": "2024-04-16T04:38:52.760464Z",
     "start_time": "2024-04-16T04:38:52.752280Z"
    }
   }
  },
  {
   "cell_type": "code",
   "execution_count": 45,
   "outputs": [
    {
     "data": {
      "text/plain": "(set(), set())"
     },
     "execution_count": 45,
     "metadata": {},
     "output_type": "execute_result"
    }
   ],
   "source": [
    "# Deleting stock 199 from test data as it is not present in train data\n",
    "test_df = test_df[test_df['stock_id'] != 199]\n",
    "test_stock_ids = set(test_df['stock_id'])\n",
    "train_stock_ids = set(train_df['stock_id'])\n",
    "\n",
    "test_not_in_train = test_stock_ids - train_stock_ids\n",
    "train_not_in_test = train_stock_ids - test_stock_ids\n",
    "test_df.reset_index(drop=True, inplace=True)\n",
    "test_not_in_train, train_not_in_test"
   ],
   "metadata": {
    "collapsed": false,
    "ExecuteTime": {
     "end_time": "2024-04-16T04:41:36.889385Z",
     "start_time": "2024-04-16T04:41:36.858319Z"
    }
   }
  },
  {
   "cell_type": "code",
   "execution_count": 52,
   "outputs": [
    {
     "data": {
      "text/plain": "(count\n 25    15669\n Name: count, dtype: int64,\n count\n 25    3920\n Name: count, dtype: int64)"
     },
     "execution_count": 52,
     "metadata": {},
     "output_type": "execute_result"
    }
   ],
   "source": [
    "# Ensure that all datetimes are present in both train and test data\n",
    "train_df.groupby(['stock_id', 'date_id']).size().reset_index(name='count')['count'].value_counts(), test_df.groupby(['stock_id', 'date_id']).size().reset_index(name='count')['count'].value_counts()"
   ],
   "metadata": {
    "collapsed": false,
    "ExecuteTime": {
     "end_time": "2024-04-16T05:34:43.276801Z",
     "start_time": "2024-04-16T05:34:43.251585Z"
    }
   }
  },
  {
   "cell_type": "markdown",
   "source": [
    "## Set up for predicting wap_{t+60}"
   ],
   "metadata": {
    "collapsed": false
   }
  },
  {
   "cell_type": "code",
   "execution_count": 54,
   "outputs": [
    {
     "data": {
      "text/plain": "        stock_id  date_id  seconds_in_bucket  imbalance_size  \\\n391720       194       80                540            0.00   \n391721       195       80                540            0.00   \n391722       196       80                540       538629.69   \n391723       197       80                540            0.00   \n391724       198       80                540      4229576.94   \n\n        imbalance_buy_sell_flag  reference_price  matched_size  far_price  \\\n391720                        0         1.002321    5018051.11   1.002321   \n391721                        0         0.999826   18968276.90   0.999826   \n391722                        1         1.000168    7156600.09   1.000360   \n391723                        0         0.999387   16035564.30   0.999387   \n391724                       -1         0.999391   87598784.28   0.998815   \n\n        near_price  bid_price   bid_size  ask_price   ask_size       wap  \\\n391720    1.002321   1.001935   27870.30   1.002321    5192.00  1.002260   \n391721    0.999826   0.999826   25542.90   0.999944  201838.14  0.999839   \n391722    1.000360   0.999975   69354.66   1.000168   60112.00  1.000078   \n391723    0.999387   0.999307   94057.23   0.999707   49359.20  0.999570   \n391724    0.999007   0.999391  733607.88   0.999583  641256.00  0.999493   \n\n           target  time_id      row_id  wap_t+60  \n391720 -26.410221     4454  80_540_194  0.999839  \n391721  -0.920296     4454  80_540_195  1.000078  \n391722   0.840426     4454  80_540_196  0.999570  \n391723  -5.400181     4454  80_540_197  0.999493  \n391724  -2.999902     4454  80_540_198       NaN  ",
      "text/html": "<div>\n<style scoped>\n    .dataframe tbody tr th:only-of-type {\n        vertical-align: middle;\n    }\n\n    .dataframe tbody tr th {\n        vertical-align: top;\n    }\n\n    .dataframe thead th {\n        text-align: right;\n    }\n</style>\n<table border=\"1\" class=\"dataframe\">\n  <thead>\n    <tr style=\"text-align: right;\">\n      <th></th>\n      <th>stock_id</th>\n      <th>date_id</th>\n      <th>seconds_in_bucket</th>\n      <th>imbalance_size</th>\n      <th>imbalance_buy_sell_flag</th>\n      <th>reference_price</th>\n      <th>matched_size</th>\n      <th>far_price</th>\n      <th>near_price</th>\n      <th>bid_price</th>\n      <th>bid_size</th>\n      <th>ask_price</th>\n      <th>ask_size</th>\n      <th>wap</th>\n      <th>target</th>\n      <th>time_id</th>\n      <th>row_id</th>\n      <th>wap_t+60</th>\n    </tr>\n  </thead>\n  <tbody>\n    <tr>\n      <th>391720</th>\n      <td>194</td>\n      <td>80</td>\n      <td>540</td>\n      <td>0.00</td>\n      <td>0</td>\n      <td>1.002321</td>\n      <td>5018051.11</td>\n      <td>1.002321</td>\n      <td>1.002321</td>\n      <td>1.001935</td>\n      <td>27870.30</td>\n      <td>1.002321</td>\n      <td>5192.00</td>\n      <td>1.002260</td>\n      <td>-26.410221</td>\n      <td>4454</td>\n      <td>80_540_194</td>\n      <td>0.999839</td>\n    </tr>\n    <tr>\n      <th>391721</th>\n      <td>195</td>\n      <td>80</td>\n      <td>540</td>\n      <td>0.00</td>\n      <td>0</td>\n      <td>0.999826</td>\n      <td>18968276.90</td>\n      <td>0.999826</td>\n      <td>0.999826</td>\n      <td>0.999826</td>\n      <td>25542.90</td>\n      <td>0.999944</td>\n      <td>201838.14</td>\n      <td>0.999839</td>\n      <td>-0.920296</td>\n      <td>4454</td>\n      <td>80_540_195</td>\n      <td>1.000078</td>\n    </tr>\n    <tr>\n      <th>391722</th>\n      <td>196</td>\n      <td>80</td>\n      <td>540</td>\n      <td>538629.69</td>\n      <td>1</td>\n      <td>1.000168</td>\n      <td>7156600.09</td>\n      <td>1.000360</td>\n      <td>1.000360</td>\n      <td>0.999975</td>\n      <td>69354.66</td>\n      <td>1.000168</td>\n      <td>60112.00</td>\n      <td>1.000078</td>\n      <td>0.840426</td>\n      <td>4454</td>\n      <td>80_540_196</td>\n      <td>0.999570</td>\n    </tr>\n    <tr>\n      <th>391723</th>\n      <td>197</td>\n      <td>80</td>\n      <td>540</td>\n      <td>0.00</td>\n      <td>0</td>\n      <td>0.999387</td>\n      <td>16035564.30</td>\n      <td>0.999387</td>\n      <td>0.999387</td>\n      <td>0.999307</td>\n      <td>94057.23</td>\n      <td>0.999707</td>\n      <td>49359.20</td>\n      <td>0.999570</td>\n      <td>-5.400181</td>\n      <td>4454</td>\n      <td>80_540_197</td>\n      <td>0.999493</td>\n    </tr>\n    <tr>\n      <th>391724</th>\n      <td>198</td>\n      <td>80</td>\n      <td>540</td>\n      <td>4229576.94</td>\n      <td>-1</td>\n      <td>0.999391</td>\n      <td>87598784.28</td>\n      <td>0.998815</td>\n      <td>0.999007</td>\n      <td>0.999391</td>\n      <td>733607.88</td>\n      <td>0.999583</td>\n      <td>641256.00</td>\n      <td>0.999493</td>\n      <td>-2.999902</td>\n      <td>4454</td>\n      <td>80_540_198</td>\n      <td>NaN</td>\n    </tr>\n  </tbody>\n</table>\n</div>"
     },
     "execution_count": 54,
     "metadata": {},
     "output_type": "execute_result"
    }
   ],
   "source": [
    "# Adding our target wap_{t+60} to train and test data\n",
    "train_df['wap_t+60'] = train_df['wap'].shift(-1)\n",
    "train_df.tail()"
   ],
   "metadata": {
    "collapsed": false,
    "ExecuteTime": {
     "end_time": "2024-04-16T05:37:09.458445Z",
     "start_time": "2024-04-16T05:37:09.450409Z"
    }
   }
  },
  {
   "cell_type": "code",
   "execution_count": 55,
   "outputs": [],
   "source": [
    "# The last row has NaN value for wap_{t+60}, so we will drop it\n",
    "train_df.drop(train_df.index[-1], inplace=True)"
   ],
   "metadata": {
    "collapsed": false,
    "ExecuteTime": {
     "end_time": "2024-04-16T05:38:23.280377Z",
     "start_time": "2024-04-16T05:38:23.219214Z"
    }
   }
  },
  {
   "cell_type": "code",
   "execution_count": 56,
   "outputs": [
    {
     "data": {
      "text/plain": "        stock_id  date_id  seconds_in_bucket  imbalance_size  \\\n391719       193       80                540            0.00   \n391720       194       80                540            0.00   \n391721       195       80                540            0.00   \n391722       196       80                540       538629.69   \n391723       197       80                540            0.00   \n\n        imbalance_buy_sell_flag  reference_price  matched_size  far_price  \\\n391719                        0         1.007618  2.347599e+08   1.007618   \n391720                        0         1.002321  5.018051e+06   1.002321   \n391721                        0         0.999826  1.896828e+07   0.999826   \n391722                        1         1.000168  7.156600e+06   1.000360   \n391723                        0         0.999387  1.603556e+07   0.999387   \n\n        near_price  bid_price  bid_size  ask_price   ask_size       wap  \\\n391719    1.007618   1.007618  76932.90   1.007672   34424.13  1.007655   \n391720    1.002321   1.001935  27870.30   1.002321    5192.00  1.002260   \n391721    0.999826   0.999826  25542.90   0.999944  201838.14  0.999839   \n391722    1.000360   0.999975  69354.66   1.000168   60112.00  1.000078   \n391723    0.999387   0.999307  94057.23   0.999707   49359.20  0.999570   \n\n           target  time_id      row_id  wap_t+60  \n391719  -5.000234     4454  80_540_193  1.002260  \n391720 -26.410221     4454  80_540_194  0.999839  \n391721  -0.920296     4454  80_540_195  1.000078  \n391722   0.840426     4454  80_540_196  0.999570  \n391723  -5.400181     4454  80_540_197  0.999493  ",
      "text/html": "<div>\n<style scoped>\n    .dataframe tbody tr th:only-of-type {\n        vertical-align: middle;\n    }\n\n    .dataframe tbody tr th {\n        vertical-align: top;\n    }\n\n    .dataframe thead th {\n        text-align: right;\n    }\n</style>\n<table border=\"1\" class=\"dataframe\">\n  <thead>\n    <tr style=\"text-align: right;\">\n      <th></th>\n      <th>stock_id</th>\n      <th>date_id</th>\n      <th>seconds_in_bucket</th>\n      <th>imbalance_size</th>\n      <th>imbalance_buy_sell_flag</th>\n      <th>reference_price</th>\n      <th>matched_size</th>\n      <th>far_price</th>\n      <th>near_price</th>\n      <th>bid_price</th>\n      <th>bid_size</th>\n      <th>ask_price</th>\n      <th>ask_size</th>\n      <th>wap</th>\n      <th>target</th>\n      <th>time_id</th>\n      <th>row_id</th>\n      <th>wap_t+60</th>\n    </tr>\n  </thead>\n  <tbody>\n    <tr>\n      <th>391719</th>\n      <td>193</td>\n      <td>80</td>\n      <td>540</td>\n      <td>0.00</td>\n      <td>0</td>\n      <td>1.007618</td>\n      <td>2.347599e+08</td>\n      <td>1.007618</td>\n      <td>1.007618</td>\n      <td>1.007618</td>\n      <td>76932.90</td>\n      <td>1.007672</td>\n      <td>34424.13</td>\n      <td>1.007655</td>\n      <td>-5.000234</td>\n      <td>4454</td>\n      <td>80_540_193</td>\n      <td>1.002260</td>\n    </tr>\n    <tr>\n      <th>391720</th>\n      <td>194</td>\n      <td>80</td>\n      <td>540</td>\n      <td>0.00</td>\n      <td>0</td>\n      <td>1.002321</td>\n      <td>5.018051e+06</td>\n      <td>1.002321</td>\n      <td>1.002321</td>\n      <td>1.001935</td>\n      <td>27870.30</td>\n      <td>1.002321</td>\n      <td>5192.00</td>\n      <td>1.002260</td>\n      <td>-26.410221</td>\n      <td>4454</td>\n      <td>80_540_194</td>\n      <td>0.999839</td>\n    </tr>\n    <tr>\n      <th>391721</th>\n      <td>195</td>\n      <td>80</td>\n      <td>540</td>\n      <td>0.00</td>\n      <td>0</td>\n      <td>0.999826</td>\n      <td>1.896828e+07</td>\n      <td>0.999826</td>\n      <td>0.999826</td>\n      <td>0.999826</td>\n      <td>25542.90</td>\n      <td>0.999944</td>\n      <td>201838.14</td>\n      <td>0.999839</td>\n      <td>-0.920296</td>\n      <td>4454</td>\n      <td>80_540_195</td>\n      <td>1.000078</td>\n    </tr>\n    <tr>\n      <th>391722</th>\n      <td>196</td>\n      <td>80</td>\n      <td>540</td>\n      <td>538629.69</td>\n      <td>1</td>\n      <td>1.000168</td>\n      <td>7.156600e+06</td>\n      <td>1.000360</td>\n      <td>1.000360</td>\n      <td>0.999975</td>\n      <td>69354.66</td>\n      <td>1.000168</td>\n      <td>60112.00</td>\n      <td>1.000078</td>\n      <td>0.840426</td>\n      <td>4454</td>\n      <td>80_540_196</td>\n      <td>0.999570</td>\n    </tr>\n    <tr>\n      <th>391723</th>\n      <td>197</td>\n      <td>80</td>\n      <td>540</td>\n      <td>0.00</td>\n      <td>0</td>\n      <td>0.999387</td>\n      <td>1.603556e+07</td>\n      <td>0.999387</td>\n      <td>0.999387</td>\n      <td>0.999307</td>\n      <td>94057.23</td>\n      <td>0.999707</td>\n      <td>49359.20</td>\n      <td>0.999570</td>\n      <td>-5.400181</td>\n      <td>4454</td>\n      <td>80_540_197</td>\n      <td>0.999493</td>\n    </tr>\n  </tbody>\n</table>\n</div>"
     },
     "execution_count": 56,
     "metadata": {},
     "output_type": "execute_result"
    }
   ],
   "source": [
    "train_df.tail()"
   ],
   "metadata": {
    "collapsed": false,
    "ExecuteTime": {
     "end_time": "2024-04-16T05:38:30.741440Z",
     "start_time": "2024-04-16T05:38:30.738209Z"
    }
   }
  },
  {
   "cell_type": "code",
   "execution_count": 57,
   "outputs": [
    {
     "data": {
      "text/plain": "       stock_id  date_id  seconds_in_bucket  imbalance_size  \\\n97994       193      100                540      3421403.64   \n97995       194      100                540            0.00   \n97996       195      100                540            0.00   \n97997       196      100                540       666840.43   \n97998       197      100                540         8707.00   \n\n       imbalance_buy_sell_flag  reference_price  matched_size  far_price  \\\n97994                        1         0.997613  1.032863e+08   0.998236   \n97995                        0         0.997705  4.930833e+06   0.997705   \n97996                        0         0.998127  1.679930e+07   0.998127   \n97997                       -1         1.000626  9.102064e+06   0.999364   \n97998                        1         0.999713  1.112104e+07   0.999799   \n\n       near_price  bid_price   bid_size  ask_price   ask_size       wap  \\\n97994    0.998236   0.997509  358087.23   0.997613   38446.00  0.997603   \n97995    0.997705   0.997511    6480.18   0.997705   10699.52  0.997584   \n97996    0.998127   0.998012   49962.43   0.998127   54038.40  0.998067   \n97997    1.000085   1.000626   78670.64   1.000806   98550.24  1.000706   \n97998    0.999713   0.999454   85514.11   0.999713  221442.48  0.999526   \n\n         target  time_id       row_id  wap_t+60  \n97994 -4.190207     5554  100_540_193  0.997584  \n97995  2.150536     5554  100_540_194  0.998067  \n97996 -1.080036     5554  100_540_195  1.000706  \n97997 -1.090169     5554  100_540_196  0.999526  \n97998 -0.619888     5554  100_540_197  0.997798  ",
      "text/html": "<div>\n<style scoped>\n    .dataframe tbody tr th:only-of-type {\n        vertical-align: middle;\n    }\n\n    .dataframe tbody tr th {\n        vertical-align: top;\n    }\n\n    .dataframe thead th {\n        text-align: right;\n    }\n</style>\n<table border=\"1\" class=\"dataframe\">\n  <thead>\n    <tr style=\"text-align: right;\">\n      <th></th>\n      <th>stock_id</th>\n      <th>date_id</th>\n      <th>seconds_in_bucket</th>\n      <th>imbalance_size</th>\n      <th>imbalance_buy_sell_flag</th>\n      <th>reference_price</th>\n      <th>matched_size</th>\n      <th>far_price</th>\n      <th>near_price</th>\n      <th>bid_price</th>\n      <th>bid_size</th>\n      <th>ask_price</th>\n      <th>ask_size</th>\n      <th>wap</th>\n      <th>target</th>\n      <th>time_id</th>\n      <th>row_id</th>\n      <th>wap_t+60</th>\n    </tr>\n  </thead>\n  <tbody>\n    <tr>\n      <th>97994</th>\n      <td>193</td>\n      <td>100</td>\n      <td>540</td>\n      <td>3421403.64</td>\n      <td>1</td>\n      <td>0.997613</td>\n      <td>1.032863e+08</td>\n      <td>0.998236</td>\n      <td>0.998236</td>\n      <td>0.997509</td>\n      <td>358087.23</td>\n      <td>0.997613</td>\n      <td>38446.00</td>\n      <td>0.997603</td>\n      <td>-4.190207</td>\n      <td>5554</td>\n      <td>100_540_193</td>\n      <td>0.997584</td>\n    </tr>\n    <tr>\n      <th>97995</th>\n      <td>194</td>\n      <td>100</td>\n      <td>540</td>\n      <td>0.00</td>\n      <td>0</td>\n      <td>0.997705</td>\n      <td>4.930833e+06</td>\n      <td>0.997705</td>\n      <td>0.997705</td>\n      <td>0.997511</td>\n      <td>6480.18</td>\n      <td>0.997705</td>\n      <td>10699.52</td>\n      <td>0.997584</td>\n      <td>2.150536</td>\n      <td>5554</td>\n      <td>100_540_194</td>\n      <td>0.998067</td>\n    </tr>\n    <tr>\n      <th>97996</th>\n      <td>195</td>\n      <td>100</td>\n      <td>540</td>\n      <td>0.00</td>\n      <td>0</td>\n      <td>0.998127</td>\n      <td>1.679930e+07</td>\n      <td>0.998127</td>\n      <td>0.998127</td>\n      <td>0.998012</td>\n      <td>49962.43</td>\n      <td>0.998127</td>\n      <td>54038.40</td>\n      <td>0.998067</td>\n      <td>-1.080036</td>\n      <td>5554</td>\n      <td>100_540_195</td>\n      <td>1.000706</td>\n    </tr>\n    <tr>\n      <th>97997</th>\n      <td>196</td>\n      <td>100</td>\n      <td>540</td>\n      <td>666840.43</td>\n      <td>-1</td>\n      <td>1.000626</td>\n      <td>9.102064e+06</td>\n      <td>0.999364</td>\n      <td>1.000085</td>\n      <td>1.000626</td>\n      <td>78670.64</td>\n      <td>1.000806</td>\n      <td>98550.24</td>\n      <td>1.000706</td>\n      <td>-1.090169</td>\n      <td>5554</td>\n      <td>100_540_196</td>\n      <td>0.999526</td>\n    </tr>\n    <tr>\n      <th>97998</th>\n      <td>197</td>\n      <td>100</td>\n      <td>540</td>\n      <td>8707.00</td>\n      <td>1</td>\n      <td>0.999713</td>\n      <td>1.112104e+07</td>\n      <td>0.999799</td>\n      <td>0.999713</td>\n      <td>0.999454</td>\n      <td>85514.11</td>\n      <td>0.999713</td>\n      <td>221442.48</td>\n      <td>0.999526</td>\n      <td>-0.619888</td>\n      <td>5554</td>\n      <td>100_540_197</td>\n      <td>0.997798</td>\n    </tr>\n  </tbody>\n</table>\n</div>"
     },
     "execution_count": 57,
     "metadata": {},
     "output_type": "execute_result"
    }
   ],
   "source": [
    "# Same for test data\n",
    "test_df['wap_t+60'] = test_df['wap'].shift(-1)\n",
    "test_df.drop(test_df.index[-1], inplace=True)\n",
    "test_df.tail()"
   ],
   "metadata": {
    "collapsed": false,
    "ExecuteTime": {
     "end_time": "2024-04-16T05:39:19.290708Z",
     "start_time": "2024-04-16T05:39:19.273916Z"
    }
   }
  },
  {
   "cell_type": "markdown",
   "source": [
    "# Predicting wap_{t+60}"
   ],
   "metadata": {
    "collapsed": false
   }
  },
  {
   "cell_type": "code",
   "execution_count": null,
   "outputs": [],
   "source": [
    "# Getting features and target columns\n",
    "featured_columns = ['imbalance_size', 'imbalance_buy_sell_flag', 'reference_price', 'matched_size',\n",
    "                    'far_price', 'near_price', 'bid_price', 'bid_size', 'ask_price',\n",
    "                    'ask_size', 'wap']\n",
    "target_column = 'wap_t+60'\n",
    "X_train = train_df[featured_columns]\n",
    "y_train = train_df[target_column]\n",
    "X_test = test_df[featured_columns]\n",
    "y_test = test_df[target_column]"
   ],
   "metadata": {
    "collapsed": false
   }
  },
  {
   "cell_type": "markdown",
   "source": [
    "## Baseline Model"
   ],
   "metadata": {
    "collapsed": false
   }
  },
  {
   "cell_type": "code",
   "execution_count": 67,
   "outputs": [
    {
     "name": "stdout",
     "output_type": "stream",
     "text": [
      "Baseline Model results\n",
      "Train MAE: 0.9999099396309644\n",
      "Test MAE: 1.0003763824732905\n",
      "Train MSE: 0.9998891160575365\n",
      "Test MSE: 1.000767511269634\n"
     ]
    }
   ],
   "source": [
    "print(\"Baseline Model results\")\n",
    "train_baseline_mae = (0 - y_train).abs().mean()\n",
    "test_baseline_mae = (0 - y_test).abs().mean()\n",
    "train_baseline_mse = ((0 - y_train) ** 2).mean()\n",
    "test_baseline_mse = ((0 - y_test) ** 2).mean()\n",
    "train_baseline_rmse = train_baseline_mse ** 0.5\n",
    "test_baseline_rmse = test_baseline_mse ** 0.5\n",
    "\n",
    "print(\"Train MAE:\", train_baseline_mae)\n",
    "print(\"Test MAE:\", test_baseline_mae)\n",
    "print(\"Train MSE:\", train_baseline_mse)\n",
    "print(\"Test MSE:\", test_baseline_mse)"
   ],
   "metadata": {
    "collapsed": false,
    "ExecuteTime": {
     "end_time": "2024-04-16T06:18:44.691250Z",
     "start_time": "2024-04-16T06:18:44.676974Z"
    }
   }
  },
  {
   "cell_type": "markdown",
   "source": [
    "## Random Forest Regressor"
   ],
   "metadata": {
    "collapsed": false
   }
  },
  {
   "cell_type": "code",
   "execution_count": 60,
   "outputs": [
    {
     "data": {
      "text/plain": "RandomForestRegressor()",
      "text/html": "<style>#sk-container-id-1 {\n  /* Definition of color scheme common for light and dark mode */\n  --sklearn-color-text: black;\n  --sklearn-color-line: gray;\n  /* Definition of color scheme for unfitted estimators */\n  --sklearn-color-unfitted-level-0: #fff5e6;\n  --sklearn-color-unfitted-level-1: #f6e4d2;\n  --sklearn-color-unfitted-level-2: #ffe0b3;\n  --sklearn-color-unfitted-level-3: chocolate;\n  /* Definition of color scheme for fitted estimators */\n  --sklearn-color-fitted-level-0: #f0f8ff;\n  --sklearn-color-fitted-level-1: #d4ebff;\n  --sklearn-color-fitted-level-2: #b3dbfd;\n  --sklearn-color-fitted-level-3: cornflowerblue;\n\n  /* Specific color for light theme */\n  --sklearn-color-text-on-default-background: var(--sg-text-color, var(--theme-code-foreground, var(--jp-content-font-color1, black)));\n  --sklearn-color-background: var(--sg-background-color, var(--theme-background, var(--jp-layout-color0, white)));\n  --sklearn-color-border-box: var(--sg-text-color, var(--theme-code-foreground, var(--jp-content-font-color1, black)));\n  --sklearn-color-icon: #696969;\n\n  @media (prefers-color-scheme: dark) {\n    /* Redefinition of color scheme for dark theme */\n    --sklearn-color-text-on-default-background: var(--sg-text-color, var(--theme-code-foreground, var(--jp-content-font-color1, white)));\n    --sklearn-color-background: var(--sg-background-color, var(--theme-background, var(--jp-layout-color0, #111)));\n    --sklearn-color-border-box: var(--sg-text-color, var(--theme-code-foreground, var(--jp-content-font-color1, white)));\n    --sklearn-color-icon: #878787;\n  }\n}\n\n#sk-container-id-1 {\n  color: var(--sklearn-color-text);\n}\n\n#sk-container-id-1 pre {\n  padding: 0;\n}\n\n#sk-container-id-1 input.sk-hidden--visually {\n  border: 0;\n  clip: rect(1px 1px 1px 1px);\n  clip: rect(1px, 1px, 1px, 1px);\n  height: 1px;\n  margin: -1px;\n  overflow: hidden;\n  padding: 0;\n  position: absolute;\n  width: 1px;\n}\n\n#sk-container-id-1 div.sk-dashed-wrapped {\n  border: 1px dashed var(--sklearn-color-line);\n  margin: 0 0.4em 0.5em 0.4em;\n  box-sizing: border-box;\n  padding-bottom: 0.4em;\n  background-color: var(--sklearn-color-background);\n}\n\n#sk-container-id-1 div.sk-container {\n  /* jupyter's `normalize.less` sets `[hidden] { display: none; }`\n     but bootstrap.min.css set `[hidden] { display: none !important; }`\n     so we also need the `!important` here to be able to override the\n     default hidden behavior on the sphinx rendered scikit-learn.org.\n     See: https://github.com/scikit-learn/scikit-learn/issues/21755 */\n  display: inline-block !important;\n  position: relative;\n}\n\n#sk-container-id-1 div.sk-text-repr-fallback {\n  display: none;\n}\n\ndiv.sk-parallel-item,\ndiv.sk-serial,\ndiv.sk-item {\n  /* draw centered vertical line to link estimators */\n  background-image: linear-gradient(var(--sklearn-color-text-on-default-background), var(--sklearn-color-text-on-default-background));\n  background-size: 2px 100%;\n  background-repeat: no-repeat;\n  background-position: center center;\n}\n\n/* Parallel-specific style estimator block */\n\n#sk-container-id-1 div.sk-parallel-item::after {\n  content: \"\";\n  width: 100%;\n  border-bottom: 2px solid var(--sklearn-color-text-on-default-background);\n  flex-grow: 1;\n}\n\n#sk-container-id-1 div.sk-parallel {\n  display: flex;\n  align-items: stretch;\n  justify-content: center;\n  background-color: var(--sklearn-color-background);\n  position: relative;\n}\n\n#sk-container-id-1 div.sk-parallel-item {\n  display: flex;\n  flex-direction: column;\n}\n\n#sk-container-id-1 div.sk-parallel-item:first-child::after {\n  align-self: flex-end;\n  width: 50%;\n}\n\n#sk-container-id-1 div.sk-parallel-item:last-child::after {\n  align-self: flex-start;\n  width: 50%;\n}\n\n#sk-container-id-1 div.sk-parallel-item:only-child::after {\n  width: 0;\n}\n\n/* Serial-specific style estimator block */\n\n#sk-container-id-1 div.sk-serial {\n  display: flex;\n  flex-direction: column;\n  align-items: center;\n  background-color: var(--sklearn-color-background);\n  padding-right: 1em;\n  padding-left: 1em;\n}\n\n\n/* Toggleable style: style used for estimator/Pipeline/ColumnTransformer box that is\nclickable and can be expanded/collapsed.\n- Pipeline and ColumnTransformer use this feature and define the default style\n- Estimators will overwrite some part of the style using the `sk-estimator` class\n*/\n\n/* Pipeline and ColumnTransformer style (default) */\n\n#sk-container-id-1 div.sk-toggleable {\n  /* Default theme specific background. It is overwritten whether we have a\n  specific estimator or a Pipeline/ColumnTransformer */\n  background-color: var(--sklearn-color-background);\n}\n\n/* Toggleable label */\n#sk-container-id-1 label.sk-toggleable__label {\n  cursor: pointer;\n  display: block;\n  width: 100%;\n  margin-bottom: 0;\n  padding: 0.5em;\n  box-sizing: border-box;\n  text-align: center;\n}\n\n#sk-container-id-1 label.sk-toggleable__label-arrow:before {\n  /* Arrow on the left of the label */\n  content: \"▸\";\n  float: left;\n  margin-right: 0.25em;\n  color: var(--sklearn-color-icon);\n}\n\n#sk-container-id-1 label.sk-toggleable__label-arrow:hover:before {\n  color: var(--sklearn-color-text);\n}\n\n/* Toggleable content - dropdown */\n\n#sk-container-id-1 div.sk-toggleable__content {\n  max-height: 0;\n  max-width: 0;\n  overflow: hidden;\n  text-align: left;\n  /* unfitted */\n  background-color: var(--sklearn-color-unfitted-level-0);\n}\n\n#sk-container-id-1 div.sk-toggleable__content.fitted {\n  /* fitted */\n  background-color: var(--sklearn-color-fitted-level-0);\n}\n\n#sk-container-id-1 div.sk-toggleable__content pre {\n  margin: 0.2em;\n  border-radius: 0.25em;\n  color: var(--sklearn-color-text);\n  /* unfitted */\n  background-color: var(--sklearn-color-unfitted-level-0);\n}\n\n#sk-container-id-1 div.sk-toggleable__content.fitted pre {\n  /* unfitted */\n  background-color: var(--sklearn-color-fitted-level-0);\n}\n\n#sk-container-id-1 input.sk-toggleable__control:checked~div.sk-toggleable__content {\n  /* Expand drop-down */\n  max-height: 200px;\n  max-width: 100%;\n  overflow: auto;\n}\n\n#sk-container-id-1 input.sk-toggleable__control:checked~label.sk-toggleable__label-arrow:before {\n  content: \"▾\";\n}\n\n/* Pipeline/ColumnTransformer-specific style */\n\n#sk-container-id-1 div.sk-label input.sk-toggleable__control:checked~label.sk-toggleable__label {\n  color: var(--sklearn-color-text);\n  background-color: var(--sklearn-color-unfitted-level-2);\n}\n\n#sk-container-id-1 div.sk-label.fitted input.sk-toggleable__control:checked~label.sk-toggleable__label {\n  background-color: var(--sklearn-color-fitted-level-2);\n}\n\n/* Estimator-specific style */\n\n/* Colorize estimator box */\n#sk-container-id-1 div.sk-estimator input.sk-toggleable__control:checked~label.sk-toggleable__label {\n  /* unfitted */\n  background-color: var(--sklearn-color-unfitted-level-2);\n}\n\n#sk-container-id-1 div.sk-estimator.fitted input.sk-toggleable__control:checked~label.sk-toggleable__label {\n  /* fitted */\n  background-color: var(--sklearn-color-fitted-level-2);\n}\n\n#sk-container-id-1 div.sk-label label.sk-toggleable__label,\n#sk-container-id-1 div.sk-label label {\n  /* The background is the default theme color */\n  color: var(--sklearn-color-text-on-default-background);\n}\n\n/* On hover, darken the color of the background */\n#sk-container-id-1 div.sk-label:hover label.sk-toggleable__label {\n  color: var(--sklearn-color-text);\n  background-color: var(--sklearn-color-unfitted-level-2);\n}\n\n/* Label box, darken color on hover, fitted */\n#sk-container-id-1 div.sk-label.fitted:hover label.sk-toggleable__label.fitted {\n  color: var(--sklearn-color-text);\n  background-color: var(--sklearn-color-fitted-level-2);\n}\n\n/* Estimator label */\n\n#sk-container-id-1 div.sk-label label {\n  font-family: monospace;\n  font-weight: bold;\n  display: inline-block;\n  line-height: 1.2em;\n}\n\n#sk-container-id-1 div.sk-label-container {\n  text-align: center;\n}\n\n/* Estimator-specific */\n#sk-container-id-1 div.sk-estimator {\n  font-family: monospace;\n  border: 1px dotted var(--sklearn-color-border-box);\n  border-radius: 0.25em;\n  box-sizing: border-box;\n  margin-bottom: 0.5em;\n  /* unfitted */\n  background-color: var(--sklearn-color-unfitted-level-0);\n}\n\n#sk-container-id-1 div.sk-estimator.fitted {\n  /* fitted */\n  background-color: var(--sklearn-color-fitted-level-0);\n}\n\n/* on hover */\n#sk-container-id-1 div.sk-estimator:hover {\n  /* unfitted */\n  background-color: var(--sklearn-color-unfitted-level-2);\n}\n\n#sk-container-id-1 div.sk-estimator.fitted:hover {\n  /* fitted */\n  background-color: var(--sklearn-color-fitted-level-2);\n}\n\n/* Specification for estimator info (e.g. \"i\" and \"?\") */\n\n/* Common style for \"i\" and \"?\" */\n\n.sk-estimator-doc-link,\na:link.sk-estimator-doc-link,\na:visited.sk-estimator-doc-link {\n  float: right;\n  font-size: smaller;\n  line-height: 1em;\n  font-family: monospace;\n  background-color: var(--sklearn-color-background);\n  border-radius: 1em;\n  height: 1em;\n  width: 1em;\n  text-decoration: none !important;\n  margin-left: 1ex;\n  /* unfitted */\n  border: var(--sklearn-color-unfitted-level-1) 1pt solid;\n  color: var(--sklearn-color-unfitted-level-1);\n}\n\n.sk-estimator-doc-link.fitted,\na:link.sk-estimator-doc-link.fitted,\na:visited.sk-estimator-doc-link.fitted {\n  /* fitted */\n  border: var(--sklearn-color-fitted-level-1) 1pt solid;\n  color: var(--sklearn-color-fitted-level-1);\n}\n\n/* On hover */\ndiv.sk-estimator:hover .sk-estimator-doc-link:hover,\n.sk-estimator-doc-link:hover,\ndiv.sk-label-container:hover .sk-estimator-doc-link:hover,\n.sk-estimator-doc-link:hover {\n  /* unfitted */\n  background-color: var(--sklearn-color-unfitted-level-3);\n  color: var(--sklearn-color-background);\n  text-decoration: none;\n}\n\ndiv.sk-estimator.fitted:hover .sk-estimator-doc-link.fitted:hover,\n.sk-estimator-doc-link.fitted:hover,\ndiv.sk-label-container:hover .sk-estimator-doc-link.fitted:hover,\n.sk-estimator-doc-link.fitted:hover {\n  /* fitted */\n  background-color: var(--sklearn-color-fitted-level-3);\n  color: var(--sklearn-color-background);\n  text-decoration: none;\n}\n\n/* Span, style for the box shown on hovering the info icon */\n.sk-estimator-doc-link span {\n  display: none;\n  z-index: 9999;\n  position: relative;\n  font-weight: normal;\n  right: .2ex;\n  padding: .5ex;\n  margin: .5ex;\n  width: min-content;\n  min-width: 20ex;\n  max-width: 50ex;\n  color: var(--sklearn-color-text);\n  box-shadow: 2pt 2pt 4pt #999;\n  /* unfitted */\n  background: var(--sklearn-color-unfitted-level-0);\n  border: .5pt solid var(--sklearn-color-unfitted-level-3);\n}\n\n.sk-estimator-doc-link.fitted span {\n  /* fitted */\n  background: var(--sklearn-color-fitted-level-0);\n  border: var(--sklearn-color-fitted-level-3);\n}\n\n.sk-estimator-doc-link:hover span {\n  display: block;\n}\n\n/* \"?\"-specific style due to the `<a>` HTML tag */\n\n#sk-container-id-1 a.estimator_doc_link {\n  float: right;\n  font-size: 1rem;\n  line-height: 1em;\n  font-family: monospace;\n  background-color: var(--sklearn-color-background);\n  border-radius: 1rem;\n  height: 1rem;\n  width: 1rem;\n  text-decoration: none;\n  /* unfitted */\n  color: var(--sklearn-color-unfitted-level-1);\n  border: var(--sklearn-color-unfitted-level-1) 1pt solid;\n}\n\n#sk-container-id-1 a.estimator_doc_link.fitted {\n  /* fitted */\n  border: var(--sklearn-color-fitted-level-1) 1pt solid;\n  color: var(--sklearn-color-fitted-level-1);\n}\n\n/* On hover */\n#sk-container-id-1 a.estimator_doc_link:hover {\n  /* unfitted */\n  background-color: var(--sklearn-color-unfitted-level-3);\n  color: var(--sklearn-color-background);\n  text-decoration: none;\n}\n\n#sk-container-id-1 a.estimator_doc_link.fitted:hover {\n  /* fitted */\n  background-color: var(--sklearn-color-fitted-level-3);\n}\n</style><div id=\"sk-container-id-1\" class=\"sk-top-container\"><div class=\"sk-text-repr-fallback\"><pre>RandomForestRegressor()</pre><b>In a Jupyter environment, please rerun this cell to show the HTML representation or trust the notebook. <br />On GitHub, the HTML representation is unable to render, please try loading this page with nbviewer.org.</b></div><div class=\"sk-container\" hidden><div class=\"sk-item\"><div class=\"sk-estimator fitted sk-toggleable\"><input class=\"sk-toggleable__control sk-hidden--visually\" id=\"sk-estimator-id-1\" type=\"checkbox\" checked><label for=\"sk-estimator-id-1\" class=\"sk-toggleable__label fitted sk-toggleable__label-arrow fitted\">&nbsp;&nbsp;RandomForestRegressor<a class=\"sk-estimator-doc-link fitted\" rel=\"noreferrer\" target=\"_blank\" href=\"https://scikit-learn.org/1.4/modules/generated/sklearn.ensemble.RandomForestRegressor.html\">?<span>Documentation for RandomForestRegressor</span></a><span class=\"sk-estimator-doc-link fitted\">i<span>Fitted</span></span></label><div class=\"sk-toggleable__content fitted\"><pre>RandomForestRegressor()</pre></div> </div></div></div></div>"
     },
     "execution_count": 60,
     "metadata": {},
     "output_type": "execute_result"
    }
   ],
   "source": [
    "start_time = time.time()\n",
    "rf_regressor = RandomForestRegressor()\n",
    "rf_regressor.fit(X_train, y_train)\n",
    "end_time = time.time()\n",
    "print(f'Time taken to train Random Forest Regressor: {end_time-start_time} seconds')"
   ],
   "metadata": {
    "collapsed": false,
    "ExecuteTime": {
     "end_time": "2024-04-16T05:55:05.963028Z",
     "start_time": "2024-04-16T05:46:34.020698Z"
    }
   }
  },
  {
   "cell_type": "code",
   "execution_count": 65,
   "outputs": [
    {
     "name": "stdout",
     "output_type": "stream",
     "text": [
      "Mean Absolute Error: 0.002739488701659801\n",
      "Mean Squared Error: 1.5724839618146507e-05\n",
      "Root Mean Squared Error: 0.003965455789458068\n",
      "R-squared: -0.0767002029695687\n"
     ]
    }
   ],
   "source": [
    "y_pred = rf_regressor.predict(X_test)\n",
    "\n",
    "mae = mean_absolute_error(y_test, y_pred)\n",
    "mse = mean_squared_error(y_test, y_pred)\n",
    "rmse = root_mean_squared_error(y_test, y_pred)\n",
    "\n",
    "print(\"Mean Absolute Error:\", mae)\n",
    "print(\"Mean Squared Error:\", mse)\n",
    "print(\"Root Mean Squared Error:\", rmse)"
   ],
   "metadata": {
    "collapsed": false,
    "ExecuteTime": {
     "end_time": "2024-04-16T05:57:00.974284Z",
     "start_time": "2024-04-16T05:56:57.198856Z"
    }
   }
  },
  {
   "cell_type": "markdown",
   "source": [],
   "metadata": {
    "collapsed": false
   }
  }
 ],
 "metadata": {
  "kernelspec": {
   "display_name": "Python 3 (ipykernel)",
   "language": "python",
   "name": "python3"
  },
  "language_info": {
   "codemirror_mode": {
    "name": "ipython",
    "version": 3
   },
   "file_extension": ".py",
   "mimetype": "text/x-python",
   "name": "python",
   "nbconvert_exporter": "python",
   "pygments_lexer": "ipython3",
   "version": "3.9.6"
  }
 },
 "nbformat": 4,
 "nbformat_minor": 4
}
