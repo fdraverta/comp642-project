{
 "cells": [
  {
   "cell_type": "code",
   "execution_count": 36,
   "metadata": {
    "ExecuteTime": {
     "end_time": "2024-04-29T19:41:53.835546Z",
     "start_time": "2024-04-29T19:41:53.831839Z"
    }
   },
   "outputs": [],
   "source": [
    "import pandas as pd\n",
    "import numpy as np\n",
    "from structlog import get_logger\n",
    "import matplotlib.pyplot as plt\n",
    "from sklearn.linear_model import LinearRegression\n",
    "from sklearn.metrics import r2_score, mean_squared_error, mean_absolute_error\n",
    "from tqdm import tqdm\n",
    "\n",
    "logger = get_logger()"
   ]
  },
  {
   "cell_type": "markdown",
   "metadata": {},
   "source": [
    "# Load Dataset"
   ]
  },
  {
   "cell_type": "code",
   "execution_count": 44,
   "outputs": [],
   "source": [
    "TRAIN_END_DATE = 424\n",
    "TEST_END_DATE = 481\n",
    "\n",
    "df = pd.read_csv('../archive/optiver2023/train.csv')\n",
    "df_train = df[df['date_id'] <= TRAIN_END_DATE]\n",
    "df_test = df[(df['date_id'] > TRAIN_END_DATE) & (df['date_id'] <= TEST_END_DATE)]\n",
    "\n",
    "# sort the data by stock_id, date_id, seconds_in_bucket\n",
    "df_train = df_train.sort_values(by=['stock_id', 'date_id', 'seconds_in_bucket'])\n",
    "df_test = df_test.sort_values(by=['stock_id', 'date_id', 'seconds_in_bucket'])"
   ],
   "metadata": {
    "collapsed": false,
    "ExecuteTime": {
     "end_time": "2024-04-29T19:44:23.440162Z",
     "start_time": "2024-04-29T19:44:16.482984Z"
    }
   }
  },
  {
   "cell_type": "code",
   "execution_count": 15,
   "metadata": {
    "ExecuteTime": {
     "end_time": "2024-04-29T07:32:11.269644Z",
     "start_time": "2024-04-29T07:32:10.501916Z"
    }
   },
   "outputs": [
    {
     "data": {
      "text/plain": "200    3080\nName: count, dtype: int64"
     },
     "execution_count": 15,
     "metadata": {},
     "output_type": "execute_result"
    }
   ],
   "source": [
    "days_to_filter = set()\n",
    "for (date_id, seconds_in_bucket), stock_ids in df_train.groupby(['date_id', 'seconds_in_bucket'])['stock_id']:\n",
    "    breakpoint()\n",
    "    if len(stock_ids) != 200:\n",
    "        days_to_filter.add(date_id)   \n",
    "\n",
    "# remove days with less than 200 stock_ids\n",
    "df_train = df_train[~df_train['date_id'].isin(days_to_filter)]\n",
    "df_train.groupby(['date_id', 'seconds_in_bucket']).size().value_counts()\n",
    "\n",
    "\n",
    "days_to_filter = set()\n",
    "for (date_id, seconds_in_bucket), stock_ids in df_test.groupby(['date_id', 'seconds_in_bucket'])['stock_id']:\n",
    "    breakpoint()\n",
    "    if len(stock_ids) != 200:\n",
    "        days_to_filter.add(date_id)   \n",
    "\n",
    "# remove days with less than 200 stock_ids\n",
    "df_test = df_test[~df_test['date_id'].isin(days_to_filter)]\n",
    "df_test.groupby(['date_id', 'seconds_in_bucket']).size().value_counts()"
   ]
  },
  {
   "cell_type": "code",
   "execution_count": 16,
   "metadata": {
    "ExecuteTime": {
     "end_time": "2024-04-29T07:32:15.931411Z",
     "start_time": "2024-04-29T07:32:15.924693Z"
    }
   },
   "outputs": [
    {
     "data": {
      "text/plain": "(1419000, 616000)"
     },
     "execution_count": 16,
     "metadata": {},
     "output_type": "execute_result"
    }
   ],
   "source": [
    "len(df_train), len(df_test)"
   ]
  },
  {
   "cell_type": "code",
   "execution_count": 38,
   "outputs": [
    {
     "name": "stdout",
     "output_type": "stream",
     "text": [
      "# stocks         : 200\n",
      "# dates          : 425\n",
      "# updates per day: 55\n"
     ]
    },
    {
     "name": "stderr",
     "output_type": "stream",
     "text": [
      "100%|██████████| 84036/84036 [00:28<00:00, 2939.90it/s]\n"
     ]
    },
    {
     "name": "stdout",
     "output_type": "stream",
     "text": [
      "# stocks         : 200\n",
      "# dates          : 56\n",
      "# updates per day: 55\n"
     ]
    },
    {
     "name": "stderr",
     "output_type": "stream",
     "text": [
      "100%|██████████| 11200/11200 [00:03<00:00, 2917.74it/s]\n"
     ]
    },
    {
     "ename": "ValueError",
     "evalue": "Input X contains NaN.\nLinearRegression does not accept missing values encoded as NaN natively. For supervised learning, you might want to consider sklearn.ensemble.HistGradientBoostingClassifier and Regressor which accept missing values encoded as NaNs natively. Alternatively, it is possible to preprocess the data, for instance by using an imputer transformer in a pipeline or drop samples with missing values. See https://scikit-learn.org/stable/modules/impute.html You can find a list of all estimators that handle NaN values at the following page: https://scikit-learn.org/stable/modules/impute.html#estimators-that-handle-nan-values",
     "output_type": "error",
     "traceback": [
      "\u001B[0;31m---------------------------------------------------------------------------\u001B[0m",
      "\u001B[0;31mValueError\u001B[0m                                Traceback (most recent call last)",
      "Cell \u001B[0;32mIn[38], line 38\u001B[0m\n\u001B[1;32m     35\u001B[0m X_test, y_test \u001B[38;5;241m=\u001B[39m get_data(df_test)\n\u001B[1;32m     37\u001B[0m lr \u001B[38;5;241m=\u001B[39m LinearRegression()\n\u001B[0;32m---> 38\u001B[0m \u001B[43mlr\u001B[49m\u001B[38;5;241;43m.\u001B[39;49m\u001B[43mfit\u001B[49m\u001B[43m(\u001B[49m\u001B[43mX_train\u001B[49m\u001B[43m,\u001B[49m\u001B[43m \u001B[49m\u001B[43my_train\u001B[49m\u001B[43m)\u001B[49m\n\u001B[1;32m     39\u001B[0m y_pred_train \u001B[38;5;241m=\u001B[39m lr\u001B[38;5;241m.\u001B[39mpredict(X_train)\n\u001B[1;32m     40\u001B[0m y_pred_test \u001B[38;5;241m=\u001B[39m lr\u001B[38;5;241m.\u001B[39mpredict(X_test)\n",
      "File \u001B[0;32m~/RICE_Classes/COMP642/2024/Project/comp642-project/venv/lib/python3.9/site-packages/sklearn/base.py:1474\u001B[0m, in \u001B[0;36m_fit_context.<locals>.decorator.<locals>.wrapper\u001B[0;34m(estimator, *args, **kwargs)\u001B[0m\n\u001B[1;32m   1467\u001B[0m     estimator\u001B[38;5;241m.\u001B[39m_validate_params()\n\u001B[1;32m   1469\u001B[0m \u001B[38;5;28;01mwith\u001B[39;00m config_context(\n\u001B[1;32m   1470\u001B[0m     skip_parameter_validation\u001B[38;5;241m=\u001B[39m(\n\u001B[1;32m   1471\u001B[0m         prefer_skip_nested_validation \u001B[38;5;129;01mor\u001B[39;00m global_skip_validation\n\u001B[1;32m   1472\u001B[0m     )\n\u001B[1;32m   1473\u001B[0m ):\n\u001B[0;32m-> 1474\u001B[0m     \u001B[38;5;28;01mreturn\u001B[39;00m \u001B[43mfit_method\u001B[49m\u001B[43m(\u001B[49m\u001B[43mestimator\u001B[49m\u001B[43m,\u001B[49m\u001B[43m \u001B[49m\u001B[38;5;241;43m*\u001B[39;49m\u001B[43margs\u001B[49m\u001B[43m,\u001B[49m\u001B[43m \u001B[49m\u001B[38;5;241;43m*\u001B[39;49m\u001B[38;5;241;43m*\u001B[39;49m\u001B[43mkwargs\u001B[49m\u001B[43m)\u001B[49m\n",
      "File \u001B[0;32m~/RICE_Classes/COMP642/2024/Project/comp642-project/venv/lib/python3.9/site-packages/sklearn/linear_model/_base.py:578\u001B[0m, in \u001B[0;36mLinearRegression.fit\u001B[0;34m(self, X, y, sample_weight)\u001B[0m\n\u001B[1;32m    574\u001B[0m n_jobs_ \u001B[38;5;241m=\u001B[39m \u001B[38;5;28mself\u001B[39m\u001B[38;5;241m.\u001B[39mn_jobs\n\u001B[1;32m    576\u001B[0m accept_sparse \u001B[38;5;241m=\u001B[39m \u001B[38;5;28;01mFalse\u001B[39;00m \u001B[38;5;28;01mif\u001B[39;00m \u001B[38;5;28mself\u001B[39m\u001B[38;5;241m.\u001B[39mpositive \u001B[38;5;28;01melse\u001B[39;00m [\u001B[38;5;124m\"\u001B[39m\u001B[38;5;124mcsr\u001B[39m\u001B[38;5;124m\"\u001B[39m, \u001B[38;5;124m\"\u001B[39m\u001B[38;5;124mcsc\u001B[39m\u001B[38;5;124m\"\u001B[39m, \u001B[38;5;124m\"\u001B[39m\u001B[38;5;124mcoo\u001B[39m\u001B[38;5;124m\"\u001B[39m]\n\u001B[0;32m--> 578\u001B[0m X, y \u001B[38;5;241m=\u001B[39m \u001B[38;5;28;43mself\u001B[39;49m\u001B[38;5;241;43m.\u001B[39;49m\u001B[43m_validate_data\u001B[49m\u001B[43m(\u001B[49m\n\u001B[1;32m    579\u001B[0m \u001B[43m    \u001B[49m\u001B[43mX\u001B[49m\u001B[43m,\u001B[49m\u001B[43m \u001B[49m\u001B[43my\u001B[49m\u001B[43m,\u001B[49m\u001B[43m \u001B[49m\u001B[43maccept_sparse\u001B[49m\u001B[38;5;241;43m=\u001B[39;49m\u001B[43maccept_sparse\u001B[49m\u001B[43m,\u001B[49m\u001B[43m \u001B[49m\u001B[43my_numeric\u001B[49m\u001B[38;5;241;43m=\u001B[39;49m\u001B[38;5;28;43;01mTrue\u001B[39;49;00m\u001B[43m,\u001B[49m\u001B[43m \u001B[49m\u001B[43mmulti_output\u001B[49m\u001B[38;5;241;43m=\u001B[39;49m\u001B[38;5;28;43;01mTrue\u001B[39;49;00m\n\u001B[1;32m    580\u001B[0m \u001B[43m\u001B[49m\u001B[43m)\u001B[49m\n\u001B[1;32m    582\u001B[0m has_sw \u001B[38;5;241m=\u001B[39m sample_weight \u001B[38;5;129;01mis\u001B[39;00m \u001B[38;5;129;01mnot\u001B[39;00m \u001B[38;5;28;01mNone\u001B[39;00m\n\u001B[1;32m    583\u001B[0m \u001B[38;5;28;01mif\u001B[39;00m has_sw:\n",
      "File \u001B[0;32m~/RICE_Classes/COMP642/2024/Project/comp642-project/venv/lib/python3.9/site-packages/sklearn/base.py:650\u001B[0m, in \u001B[0;36mBaseEstimator._validate_data\u001B[0;34m(self, X, y, reset, validate_separately, cast_to_ndarray, **check_params)\u001B[0m\n\u001B[1;32m    648\u001B[0m         y \u001B[38;5;241m=\u001B[39m check_array(y, input_name\u001B[38;5;241m=\u001B[39m\u001B[38;5;124m\"\u001B[39m\u001B[38;5;124my\u001B[39m\u001B[38;5;124m\"\u001B[39m, \u001B[38;5;241m*\u001B[39m\u001B[38;5;241m*\u001B[39mcheck_y_params)\n\u001B[1;32m    649\u001B[0m     \u001B[38;5;28;01melse\u001B[39;00m:\n\u001B[0;32m--> 650\u001B[0m         X, y \u001B[38;5;241m=\u001B[39m \u001B[43mcheck_X_y\u001B[49m\u001B[43m(\u001B[49m\u001B[43mX\u001B[49m\u001B[43m,\u001B[49m\u001B[43m \u001B[49m\u001B[43my\u001B[49m\u001B[43m,\u001B[49m\u001B[43m \u001B[49m\u001B[38;5;241;43m*\u001B[39;49m\u001B[38;5;241;43m*\u001B[39;49m\u001B[43mcheck_params\u001B[49m\u001B[43m)\u001B[49m\n\u001B[1;32m    651\u001B[0m     out \u001B[38;5;241m=\u001B[39m X, y\n\u001B[1;32m    653\u001B[0m \u001B[38;5;28;01mif\u001B[39;00m \u001B[38;5;129;01mnot\u001B[39;00m no_val_X \u001B[38;5;129;01mand\u001B[39;00m check_params\u001B[38;5;241m.\u001B[39mget(\u001B[38;5;124m\"\u001B[39m\u001B[38;5;124mensure_2d\u001B[39m\u001B[38;5;124m\"\u001B[39m, \u001B[38;5;28;01mTrue\u001B[39;00m):\n",
      "File \u001B[0;32m~/RICE_Classes/COMP642/2024/Project/comp642-project/venv/lib/python3.9/site-packages/sklearn/utils/validation.py:1263\u001B[0m, in \u001B[0;36mcheck_X_y\u001B[0;34m(X, y, accept_sparse, accept_large_sparse, dtype, order, copy, force_all_finite, ensure_2d, allow_nd, multi_output, ensure_min_samples, ensure_min_features, y_numeric, estimator)\u001B[0m\n\u001B[1;32m   1258\u001B[0m         estimator_name \u001B[38;5;241m=\u001B[39m _check_estimator_name(estimator)\n\u001B[1;32m   1259\u001B[0m     \u001B[38;5;28;01mraise\u001B[39;00m \u001B[38;5;167;01mValueError\u001B[39;00m(\n\u001B[1;32m   1260\u001B[0m         \u001B[38;5;124mf\u001B[39m\u001B[38;5;124m\"\u001B[39m\u001B[38;5;132;01m{\u001B[39;00mestimator_name\u001B[38;5;132;01m}\u001B[39;00m\u001B[38;5;124m requires y to be passed, but the target y is None\u001B[39m\u001B[38;5;124m\"\u001B[39m\n\u001B[1;32m   1261\u001B[0m     )\n\u001B[0;32m-> 1263\u001B[0m X \u001B[38;5;241m=\u001B[39m \u001B[43mcheck_array\u001B[49m\u001B[43m(\u001B[49m\n\u001B[1;32m   1264\u001B[0m \u001B[43m    \u001B[49m\u001B[43mX\u001B[49m\u001B[43m,\u001B[49m\n\u001B[1;32m   1265\u001B[0m \u001B[43m    \u001B[49m\u001B[43maccept_sparse\u001B[49m\u001B[38;5;241;43m=\u001B[39;49m\u001B[43maccept_sparse\u001B[49m\u001B[43m,\u001B[49m\n\u001B[1;32m   1266\u001B[0m \u001B[43m    \u001B[49m\u001B[43maccept_large_sparse\u001B[49m\u001B[38;5;241;43m=\u001B[39;49m\u001B[43maccept_large_sparse\u001B[49m\u001B[43m,\u001B[49m\n\u001B[1;32m   1267\u001B[0m \u001B[43m    \u001B[49m\u001B[43mdtype\u001B[49m\u001B[38;5;241;43m=\u001B[39;49m\u001B[43mdtype\u001B[49m\u001B[43m,\u001B[49m\n\u001B[1;32m   1268\u001B[0m \u001B[43m    \u001B[49m\u001B[43morder\u001B[49m\u001B[38;5;241;43m=\u001B[39;49m\u001B[43morder\u001B[49m\u001B[43m,\u001B[49m\n\u001B[1;32m   1269\u001B[0m \u001B[43m    \u001B[49m\u001B[43mcopy\u001B[49m\u001B[38;5;241;43m=\u001B[39;49m\u001B[43mcopy\u001B[49m\u001B[43m,\u001B[49m\n\u001B[1;32m   1270\u001B[0m \u001B[43m    \u001B[49m\u001B[43mforce_all_finite\u001B[49m\u001B[38;5;241;43m=\u001B[39;49m\u001B[43mforce_all_finite\u001B[49m\u001B[43m,\u001B[49m\n\u001B[1;32m   1271\u001B[0m \u001B[43m    \u001B[49m\u001B[43mensure_2d\u001B[49m\u001B[38;5;241;43m=\u001B[39;49m\u001B[43mensure_2d\u001B[49m\u001B[43m,\u001B[49m\n\u001B[1;32m   1272\u001B[0m \u001B[43m    \u001B[49m\u001B[43mallow_nd\u001B[49m\u001B[38;5;241;43m=\u001B[39;49m\u001B[43mallow_nd\u001B[49m\u001B[43m,\u001B[49m\n\u001B[1;32m   1273\u001B[0m \u001B[43m    \u001B[49m\u001B[43mensure_min_samples\u001B[49m\u001B[38;5;241;43m=\u001B[39;49m\u001B[43mensure_min_samples\u001B[49m\u001B[43m,\u001B[49m\n\u001B[1;32m   1274\u001B[0m \u001B[43m    \u001B[49m\u001B[43mensure_min_features\u001B[49m\u001B[38;5;241;43m=\u001B[39;49m\u001B[43mensure_min_features\u001B[49m\u001B[43m,\u001B[49m\n\u001B[1;32m   1275\u001B[0m \u001B[43m    \u001B[49m\u001B[43mestimator\u001B[49m\u001B[38;5;241;43m=\u001B[39;49m\u001B[43mestimator\u001B[49m\u001B[43m,\u001B[49m\n\u001B[1;32m   1276\u001B[0m \u001B[43m    \u001B[49m\u001B[43minput_name\u001B[49m\u001B[38;5;241;43m=\u001B[39;49m\u001B[38;5;124;43m\"\u001B[39;49m\u001B[38;5;124;43mX\u001B[39;49m\u001B[38;5;124;43m\"\u001B[39;49m\u001B[43m,\u001B[49m\n\u001B[1;32m   1277\u001B[0m \u001B[43m\u001B[49m\u001B[43m)\u001B[49m\n\u001B[1;32m   1279\u001B[0m y \u001B[38;5;241m=\u001B[39m _check_y(y, multi_output\u001B[38;5;241m=\u001B[39mmulti_output, y_numeric\u001B[38;5;241m=\u001B[39my_numeric, estimator\u001B[38;5;241m=\u001B[39mestimator)\n\u001B[1;32m   1281\u001B[0m check_consistent_length(X, y)\n",
      "File \u001B[0;32m~/RICE_Classes/COMP642/2024/Project/comp642-project/venv/lib/python3.9/site-packages/sklearn/utils/validation.py:1049\u001B[0m, in \u001B[0;36mcheck_array\u001B[0;34m(array, accept_sparse, accept_large_sparse, dtype, order, copy, force_all_finite, ensure_2d, allow_nd, ensure_min_samples, ensure_min_features, estimator, input_name)\u001B[0m\n\u001B[1;32m   1043\u001B[0m     \u001B[38;5;28;01mraise\u001B[39;00m \u001B[38;5;167;01mValueError\u001B[39;00m(\n\u001B[1;32m   1044\u001B[0m         \u001B[38;5;124m\"\u001B[39m\u001B[38;5;124mFound array with dim \u001B[39m\u001B[38;5;132;01m%d\u001B[39;00m\u001B[38;5;124m. \u001B[39m\u001B[38;5;132;01m%s\u001B[39;00m\u001B[38;5;124m expected <= 2.\u001B[39m\u001B[38;5;124m\"\u001B[39m\n\u001B[1;32m   1045\u001B[0m         \u001B[38;5;241m%\u001B[39m (array\u001B[38;5;241m.\u001B[39mndim, estimator_name)\n\u001B[1;32m   1046\u001B[0m     )\n\u001B[1;32m   1048\u001B[0m \u001B[38;5;28;01mif\u001B[39;00m force_all_finite:\n\u001B[0;32m-> 1049\u001B[0m     \u001B[43m_assert_all_finite\u001B[49m\u001B[43m(\u001B[49m\n\u001B[1;32m   1050\u001B[0m \u001B[43m        \u001B[49m\u001B[43marray\u001B[49m\u001B[43m,\u001B[49m\n\u001B[1;32m   1051\u001B[0m \u001B[43m        \u001B[49m\u001B[43minput_name\u001B[49m\u001B[38;5;241;43m=\u001B[39;49m\u001B[43minput_name\u001B[49m\u001B[43m,\u001B[49m\n\u001B[1;32m   1052\u001B[0m \u001B[43m        \u001B[49m\u001B[43mestimator_name\u001B[49m\u001B[38;5;241;43m=\u001B[39;49m\u001B[43mestimator_name\u001B[49m\u001B[43m,\u001B[49m\n\u001B[1;32m   1053\u001B[0m \u001B[43m        \u001B[49m\u001B[43mallow_nan\u001B[49m\u001B[38;5;241;43m=\u001B[39;49m\u001B[43mforce_all_finite\u001B[49m\u001B[43m \u001B[49m\u001B[38;5;241;43m==\u001B[39;49m\u001B[43m \u001B[49m\u001B[38;5;124;43m\"\u001B[39;49m\u001B[38;5;124;43mallow-nan\u001B[39;49m\u001B[38;5;124;43m\"\u001B[39;49m\u001B[43m,\u001B[49m\n\u001B[1;32m   1054\u001B[0m \u001B[43m    \u001B[49m\u001B[43m)\u001B[49m\n\u001B[1;32m   1056\u001B[0m \u001B[38;5;28;01mif\u001B[39;00m copy:\n\u001B[1;32m   1057\u001B[0m     \u001B[38;5;28;01mif\u001B[39;00m _is_numpy_namespace(xp):\n\u001B[1;32m   1058\u001B[0m         \u001B[38;5;66;03m# only make a copy if `array` and `array_orig` may share memory`\u001B[39;00m\n",
      "File \u001B[0;32m~/RICE_Classes/COMP642/2024/Project/comp642-project/venv/lib/python3.9/site-packages/sklearn/utils/validation.py:126\u001B[0m, in \u001B[0;36m_assert_all_finite\u001B[0;34m(X, allow_nan, msg_dtype, estimator_name, input_name)\u001B[0m\n\u001B[1;32m    123\u001B[0m \u001B[38;5;28;01mif\u001B[39;00m first_pass_isfinite:\n\u001B[1;32m    124\u001B[0m     \u001B[38;5;28;01mreturn\u001B[39;00m\n\u001B[0;32m--> 126\u001B[0m \u001B[43m_assert_all_finite_element_wise\u001B[49m\u001B[43m(\u001B[49m\n\u001B[1;32m    127\u001B[0m \u001B[43m    \u001B[49m\u001B[43mX\u001B[49m\u001B[43m,\u001B[49m\n\u001B[1;32m    128\u001B[0m \u001B[43m    \u001B[49m\u001B[43mxp\u001B[49m\u001B[38;5;241;43m=\u001B[39;49m\u001B[43mxp\u001B[49m\u001B[43m,\u001B[49m\n\u001B[1;32m    129\u001B[0m \u001B[43m    \u001B[49m\u001B[43mallow_nan\u001B[49m\u001B[38;5;241;43m=\u001B[39;49m\u001B[43mallow_nan\u001B[49m\u001B[43m,\u001B[49m\n\u001B[1;32m    130\u001B[0m \u001B[43m    \u001B[49m\u001B[43mmsg_dtype\u001B[49m\u001B[38;5;241;43m=\u001B[39;49m\u001B[43mmsg_dtype\u001B[49m\u001B[43m,\u001B[49m\n\u001B[1;32m    131\u001B[0m \u001B[43m    \u001B[49m\u001B[43mestimator_name\u001B[49m\u001B[38;5;241;43m=\u001B[39;49m\u001B[43mestimator_name\u001B[49m\u001B[43m,\u001B[49m\n\u001B[1;32m    132\u001B[0m \u001B[43m    \u001B[49m\u001B[43minput_name\u001B[49m\u001B[38;5;241;43m=\u001B[39;49m\u001B[43minput_name\u001B[49m\u001B[43m,\u001B[49m\n\u001B[1;32m    133\u001B[0m \u001B[43m\u001B[49m\u001B[43m)\u001B[49m\n",
      "File \u001B[0;32m~/RICE_Classes/COMP642/2024/Project/comp642-project/venv/lib/python3.9/site-packages/sklearn/utils/validation.py:175\u001B[0m, in \u001B[0;36m_assert_all_finite_element_wise\u001B[0;34m(X, xp, allow_nan, msg_dtype, estimator_name, input_name)\u001B[0m\n\u001B[1;32m    158\u001B[0m \u001B[38;5;28;01mif\u001B[39;00m estimator_name \u001B[38;5;129;01mand\u001B[39;00m input_name \u001B[38;5;241m==\u001B[39m \u001B[38;5;124m\"\u001B[39m\u001B[38;5;124mX\u001B[39m\u001B[38;5;124m\"\u001B[39m \u001B[38;5;129;01mand\u001B[39;00m has_nan_error:\n\u001B[1;32m    159\u001B[0m     \u001B[38;5;66;03m# Improve the error message on how to handle missing values in\u001B[39;00m\n\u001B[1;32m    160\u001B[0m     \u001B[38;5;66;03m# scikit-learn.\u001B[39;00m\n\u001B[1;32m    161\u001B[0m     msg_err \u001B[38;5;241m+\u001B[39m\u001B[38;5;241m=\u001B[39m (\n\u001B[1;32m    162\u001B[0m         \u001B[38;5;124mf\u001B[39m\u001B[38;5;124m\"\u001B[39m\u001B[38;5;130;01m\\n\u001B[39;00m\u001B[38;5;132;01m{\u001B[39;00mestimator_name\u001B[38;5;132;01m}\u001B[39;00m\u001B[38;5;124m does not accept missing values\u001B[39m\u001B[38;5;124m\"\u001B[39m\n\u001B[1;32m    163\u001B[0m         \u001B[38;5;124m\"\u001B[39m\u001B[38;5;124m encoded as NaN natively. For supervised learning, you might want\u001B[39m\u001B[38;5;124m\"\u001B[39m\n\u001B[0;32m   (...)\u001B[0m\n\u001B[1;32m    173\u001B[0m         \u001B[38;5;124m\"\u001B[39m\u001B[38;5;124m#estimators-that-handle-nan-values\u001B[39m\u001B[38;5;124m\"\u001B[39m\n\u001B[1;32m    174\u001B[0m     )\n\u001B[0;32m--> 175\u001B[0m \u001B[38;5;28;01mraise\u001B[39;00m \u001B[38;5;167;01mValueError\u001B[39;00m(msg_err)\n",
      "\u001B[0;31mValueError\u001B[0m: Input X contains NaN.\nLinearRegression does not accept missing values encoded as NaN natively. For supervised learning, you might want to consider sklearn.ensemble.HistGradientBoostingClassifier and Regressor which accept missing values encoded as NaNs natively. Alternatively, it is possible to preprocess the data, for instance by using an imputer transformer in a pipeline or drop samples with missing values. See https://scikit-learn.org/stable/modules/impute.html You can find a list of all estimators that handle NaN values at the following page: https://scikit-learn.org/stable/modules/impute.html#estimators-that-handle-nan-values"
     ]
    }
   ],
   "source": [
    "def get_data(df):\n",
    "    num_stocks = df[\"stock_id\"].nunique()\n",
    "    num_dates = df[\"date_id\"].nunique()\n",
    "    num_updates = df[\"seconds_in_bucket\"].nunique()\n",
    "\n",
    "    num_dates_map = {v:i for i, v in enumerate(sorted(df[\"date_id\"].unique()))}\n",
    "    breakpoint()\n",
    "\n",
    "    print(f\"# stocks         : {num_stocks}\")\n",
    "    print(f\"# dates          : {num_dates}\")\n",
    "    print(f\"# updates per day: {num_updates}\")\n",
    "\n",
    "    breakpoint()\n",
    "    stock_returns = np.zeros((num_stocks, num_dates, num_updates))\n",
    "    index_returns = np.zeros((num_stocks, num_dates, num_updates))\n",
    "\n",
    "\n",
    "    for (stock_id, date_id), frame in tqdm(df.groupby([\"stock_id\", \"date_id\"])):\n",
    "        frame[\"stock_return\"] = (frame[\"wap\"] / frame[\"wap\"].shift(6)).shift(-6) * 10_000\n",
    "        frame[\"index_return\"] = frame[\"stock_return\"] - frame[\"target\"]\n",
    "        breakpoint()\n",
    "\n",
    "        stock_returns[stock_id, num_dates_map[date_id]] = frame[\"stock_return\"].values\n",
    "        index_returns[stock_id, num_dates_map[date_id]] = frame[\"index_return\"].values\n",
    "\n",
    "    index_return = np.mean(index_returns, axis=0) # 10000 * index_return_t+60\n",
    "\n",
    "    y = index_return.reshape(-1)\n",
    "    X = stock_returns.reshape((num_stocks, -1)).T\n",
    "    # mask = ~((np.isnan(y) | np.isnan(X).any(axis=1)))\n",
    "    # X, y = X[mask], y[mask]\n",
    "    return X, y\n",
    "\n",
    "X_train, y_train = get_data(df_train)\n",
    "X_test, y_test = get_data(df_test)\n",
    "\n",
    "lr = LinearRegression()\n",
    "lr.fit(X_train, y_train)\n",
    "y_pred_train = lr.predict(X_train)\n",
    "y_pred_test = lr.predict(X_test)"
   ],
   "metadata": {
    "collapsed": false,
    "ExecuteTime": {
     "end_time": "2024-04-29T19:42:42.979566Z",
     "start_time": "2024-04-29T19:42:06.884923Z"
    }
   }
  },
  {
   "cell_type": "code",
   "execution_count": 28,
   "outputs": [
    {
     "name": "stdout",
     "output_type": "stream",
     "text": [
      ">>>>>>>>>>>>>>>>>>>>>>>>>>>>>>>>>>>>>>Fit >>>>>>>>>>>>>>>>>>>>>>>>>>>>>>>>>>>>>>\n",
      "Sum of Coef: 1.0016366870113351\n",
      "Intercept: -16.366904249331128\n",
      "Train R2: 0.9999997492637379\n",
      "Train MSE: 0.0037985915291011774\n",
      "Test R2: 0.9998318439218082\n",
      "Test MSE: 0.002885849594851249\n"
     ]
    }
   ],
   "source": [
    "print(\"Fit \".center(80, \">\"))\n",
    "print(\"Sum of Coef:\", lr.coef_.sum())\n",
    "print(\"Intercept:\", lr.intercept_)\n",
    "print(\"Train R2:\", r2_score(y_train, y_pred_train))\n",
    "print(\"Train MSE:\", mean_squared_error(y_train, y_pred_train))\n",
    "print(\"Test R2:\", r2_score(y_test, y_pred_test))\n",
    "print(\"Test MSE:\", mean_squared_error(y_test, y_pred_test))"
   ],
   "metadata": {
    "collapsed": false,
    "ExecuteTime": {
     "end_time": "2024-04-29T19:39:22.451704Z",
     "start_time": "2024-04-29T19:39:22.445909Z"
    }
   }
  },
  {
   "cell_type": "code",
   "execution_count": 29,
   "outputs": [
    {
     "name": "stdout",
     "output_type": "stream",
     "text": [
      "Coef: [0.00390747 0.00094    0.00193844 0.00636099 0.00404473 0.00407181\n",
      " 0.00192418 0.0060503  0.00582268 0.00246783 0.00198957 0.00788853\n",
      " 0.00664465 0.00195512 0.00822393 0.00619615 0.00202353 0.005923\n",
      " 0.00404154 0.00189737 0.00389136 0.00085956 0.00591612 0.00416779\n",
      " 0.00173364 0.00180818 0.0039261  0.0020838  0.00375153 0.00414601\n",
      " 0.00070243 0.00093752 0.00197963 0.00204758 0.00572611 0.00390222\n",
      " 0.00391234 0.00430209 0.006308   0.00214506 0.00191361 0.0398809\n",
      " 0.00202012 0.00214102 0.00413237 0.03985863 0.00191307 0.00089706\n",
      " 0.00577985 0.00366877 0.00387718 0.00599127 0.00083079 0.0039452\n",
      " 0.00422445 0.00199823 0.00600354 0.00367991 0.0058532  0.00392075\n",
      " 0.00612145 0.00376206 0.00213056 0.00090106 0.00189418 0.00380647\n",
      " 0.00199971 0.00788608 0.00381713 0.00402751 0.00204193 0.00392387\n",
      " 0.00600168 0.0049989  0.00392843 0.00415293 0.00152047 0.00388065\n",
      " 0.00499954 0.00499966 0.00095732 0.0019807  0.00195441 0.00777406\n",
      " 0.02015629 0.00376059 0.00587189 0.00210308 0.01979462 0.00194688\n",
      " 0.0018547  0.00595174 0.00391524 0.00219669 0.00107849 0.02009741\n",
      " 0.00593029 0.00086567 0.00199729 0.00499849 0.00090473 0.00191788\n",
      " 0.00499943 0.00590308 0.00396837 0.00618112 0.00072349 0.00203403\n",
      " 0.00406428 0.00565357 0.00588826 0.00092815 0.03997694 0.00597227\n",
      " 0.00194842 0.00391835 0.00168141 0.0019707  0.0060745  0.00193923\n",
      " 0.00142466 0.00396655 0.00562893 0.00598271 0.00208897 0.00196549\n",
      " 0.00786601 0.00607895 0.00417222 0.00196247 0.00620411 0.00189388\n",
      " 0.00386638 0.00616395 0.00177972 0.00500043 0.00089394 0.00412907\n",
      " 0.00181929 0.00407139 0.00782797 0.00623934 0.0080105  0.00198399\n",
      " 0.00391459 0.00178337 0.00092699 0.00381664 0.00405839 0.00394137\n",
      " 0.0050003  0.00764496 0.00391029 0.00499878 0.00071223 0.00196282\n",
      " 0.00597257 0.00422351 0.00089802 0.00216941 0.00580002 0.0039129\n",
      " 0.0059412  0.00809971 0.00209502 0.00187179 0.00353583 0.00211032\n",
      " 0.03968525 0.0023152  0.00213442 0.00367354 0.00190462 0.00206429\n",
      " 0.00590553 0.01990744 0.00441518 0.00200173 0.00547918 0.02004632\n",
      " 0.00107442 0.00173834 0.00604777 0.0040629  0.0060713  0.00401264\n",
      " 0.00407416 0.00412895 0.00391005 0.00196104 0.0040925  0.039967\n",
      " 0.00190056 0.00777464 0.00180386 0.00381652 0.00090364 0.00385809\n",
      " 0.00586496 0.00500158]\n"
     ]
    }
   ],
   "source": [
    "print(\"Coef:\", lr.coef_)"
   ],
   "metadata": {
    "collapsed": false,
    "ExecuteTime": {
     "end_time": "2024-04-29T19:39:23.206335Z",
     "start_time": "2024-04-29T19:39:23.203290Z"
    }
   }
  },
  {
   "cell_type": "code",
   "execution_count": 23,
   "metadata": {
    "ExecuteTime": {
     "end_time": "2024-04-29T07:34:24.974997Z",
     "start_time": "2024-04-29T07:34:24.847447Z"
    }
   },
   "outputs": [
    {
     "data": {
      "text/plain": "[<matplotlib.lines.Line2D at 0x17fa6a3d0>]"
     },
     "execution_count": 23,
     "metadata": {},
     "output_type": "execute_result"
    },
    {
     "data": {
      "text/plain": "<Figure size 640x480 with 1 Axes>",
      "image/png": "[encoded data removed]"
     },
     "metadata": {},
     "output_type": "display_data"
    }
   ],
   "source": [
    "plt.plot(y_test, y_pred_test)"
   ]
  },
  {
   "cell_type": "markdown",
   "metadata": {},
   "source": [
    "# Check if we can know the weights for the index"
   ]
  },
  {
   "cell_type": "code",
   "execution_count": 30,
   "outputs": [],
   "source": [
    "WEIGHTS = lr.coef_\n",
    "intercept = lr.intercept_"
   ],
   "metadata": {
    "collapsed": false,
    "ExecuteTime": {
     "end_time": "2024-04-29T19:39:35.174003Z",
     "start_time": "2024-04-29T19:39:35.169818Z"
    }
   }
  },
  {
   "cell_type": "code",
   "execution_count": 45,
   "outputs": [],
   "source": [
    "WEIGHTS = np.loadtxt('index_return_coef.csv', delimiter=',')[:, 1]\n",
    "intercept = WEIGHTS[-1]\n",
    "WEIGHTS = WEIGHTS[:-1]"
   ],
   "metadata": {
    "collapsed": false,
    "ExecuteTime": {
     "end_time": "2024-04-29T19:44:37.163540Z",
     "start_time": "2024-04-29T19:44:37.156446Z"
    }
   }
  },
  {
   "cell_type": "code",
   "execution_count": 41,
   "outputs": [],
   "source": [
    "def compute_index(df):\n",
    "    i = 0\n",
    "    for _, records  in tqdm(df.groupby(['date_id', 'seconds_in_bucket'])):\n",
    "        curr_x = records['wap_t+60'] / records['wap'] * 10_000\n",
    "        if curr_x.size != 200:\n",
    "            continue\n",
    "        index_wap = np.dot(WEIGHTS, curr_x) + intercept # 10000 * index_return_t+60\n",
    "        if i == 0:\n",
    "            print(index_wap)\n",
    "            i += 1\n",
    "        df.loc[records.index, 'index_wap'] = [index_wap] * records.index.size\n",
    "\n",
    "    return df"
   ],
   "metadata": {
    "collapsed": false,
    "ExecuteTime": {
     "end_time": "2024-04-29T19:43:28.372078Z",
     "start_time": "2024-04-29T19:43:28.366826Z"
    }
   }
  },
  {
   "cell_type": "code",
   "execution_count": 33,
   "outputs": [
    {
     "name": "stderr",
     "output_type": "stream",
     "text": [
      " 65%|██████▌   | 13577/20825 [00:01<00:00, 12081.18it/s]"
     ]
    },
    {
     "name": "stdout",
     "output_type": "stream",
     "text": [
      "10001.257814038556\n"
     ]
    },
    {
     "name": "stderr",
     "output_type": "stream",
     "text": [
      "100%|██████████| 20825/20825 [00:03<00:00, 6752.62it/s] \n"
     ]
    }
   ],
   "source": [
    "df_train['wap_t+60'] = df_train.groupby(['stock_id', 'date_id'])['wap'].shift(-6)\n",
    "df_train = df_train.dropna(subset=['wap', 'wap_t+60'])\n",
    "df_train = compute_index(df_train)\n",
    "df_train = df_train.sort_values(by=[\"stock_id\", \"date_id\", \"seconds_in_bucket\"])"
   ],
   "metadata": {
    "collapsed": false,
    "ExecuteTime": {
     "end_time": "2024-04-29T19:40:01.309422Z",
     "start_time": "2024-04-29T19:39:55.223008Z"
    }
   }
  },
  {
   "cell_type": "code",
   "execution_count": 28,
   "outputs": [
    {
     "name": "stdout",
     "output_type": "stream",
     "text": [
      "2.492814863023814e-05\n",
      "0.004051465886805681\n",
      "0.9999997278440389\n"
     ]
    }
   ],
   "source": [
    "df_train[\"predicted_target\"] = df_train[\"wap_t+60\"] / df_train[\"wap\"] * 10000 - df_train[\"index_wap\"]\n",
    "df_train = df_train[~df_train[\"predicted_target\"].isna()]\n",
    "\n",
    "print(mean_squared_error(df_train['predicted_target'], df_train['target']))\n",
    "print(mean_absolute_error(df_train['predicted_target'], df_train['target']))\n",
    "print(r2_score(df_train['predicted_target'], df_train['target']))"
   ],
   "metadata": {
    "collapsed": false,
    "ExecuteTime": {
     "end_time": "2024-04-29T07:34:43.302528Z",
     "start_time": "2024-04-29T07:34:43.206421Z"
    }
   }
  },
  {
   "cell_type": "code",
   "execution_count": 46,
   "outputs": [
    {
     "name": "stderr",
     "output_type": "stream",
     "text": [
      " 18%|█▊        | 565/3080 [00:00<00:00, 3085.63it/s]"
     ]
    },
    {
     "name": "stdout",
     "output_type": "stream",
     "text": [
      "9999.563875370335\n"
     ]
    },
    {
     "name": "stderr",
     "output_type": "stream",
     "text": [
      "100%|██████████| 3080/3080 [00:00<00:00, 4002.35it/s]\n"
     ]
    },
    {
     "name": "stdout",
     "output_type": "stream",
     "text": [
      "0.0029105760416829564\n",
      "0.04121442789361965\n",
      "0.9999629278368903\n"
     ]
    }
   ],
   "source": [
    "def compute_index(df):\n",
    "    i = 0\n",
    "    for _, records  in tqdm(df.groupby(['date_id', 'seconds_in_bucket'])):\n",
    "        curr_x = records['wap_t+60'] / records['wap'] * 10_000\n",
    "        if curr_x.size != 200:\n",
    "            continue\n",
    "        index_wap = np.dot(WEIGHTS, curr_x) + intercept # 10000 * index_return_t+60\n",
    "        if i == 0:\n",
    "            print(index_wap)\n",
    "            i += 1\n",
    "        df.loc[records.index, 'index_wap'] = [index_wap] * records.index.size\n",
    "\n",
    "    return df\n",
    "\n",
    "df_test['wap_t+60'] = df_test.groupby(['stock_id', 'date_id'])['wap'].shift(-6)\n",
    "# df_test = df_test.dropna(subset=['wap', 'wap_t+60'])\n",
    "df_test = compute_index(df_test)\n",
    "df_test = df_test.sort_values(by=[\"stock_id\", \"date_id\", \"seconds_in_bucket\"])\n",
    "df_test[\"predicted_target\"] = df_test[\"wap_t+60\"] / df_test[\"wap\"] * 10000 - df_test[\"index_wap\"]\n",
    "df_test = df_test[~df_test[\"predicted_target\"].isna()]\n",
    "\n",
    "print(mean_squared_error(df_test['target'], df_test['predicted_target']))\n",
    "print(mean_absolute_error(df_test['target'], df_test['predicted_target']))\n",
    "print(r2_score(df_test['target'], df_test['predicted_target']))"
   ],
   "metadata": {
    "collapsed": false,
    "ExecuteTime": {
     "end_time": "2024-04-29T19:44:43.974123Z",
     "start_time": "2024-04-29T19:44:42.602684Z"
    }
   }
  },
  {
   "cell_type": "code",
   "execution_count": 47,
   "outputs": [
    {
     "data": {
      "text/plain": "4621980    1.846125\n4622180   -1.524412\n4622380   -1.702987\n4622580   -1.336180\n4622780   -1.341822\n             ...   \n5235979    8.826575\n5236179    8.970975\n5236379    0.809504\n5236579    0.740839\n5236779    4.313910\nName: predicted_target, Length: 539000, dtype: float64"
     },
     "execution_count": 47,
     "metadata": {},
     "output_type": "execute_result"
    }
   ],
   "source": [
    "df_test['predicted_target']"
   ],
   "metadata": {
    "collapsed": false,
    "ExecuteTime": {
     "end_time": "2024-04-29T19:44:46.289264Z",
     "start_time": "2024-04-29T19:44:46.280555Z"
    }
   }
  },
  {
   "cell_type": "code",
   "execution_count": 7,
   "outputs": [
    {
     "data": {
      "text/plain": "         stock_id  date_id  seconds_in_bucket  imbalance_size  \\\n4621980         0      425                  0      7218754.93   \n4622180         0      425                 10      6166574.88   \n4622380         0      425                 20      6179553.04   \n4622580         0      425                 30      6513133.79   \n4622780         0      425                 40      6492927.96   \n...           ...      ...                ...             ...   \n5235979       199      480                440            0.00   \n5236179       199      480                450            0.00   \n5236379       199      480                460       135671.59   \n5236579       199      480                470       796236.05   \n5236779       199      480                480      1542650.27   \n\n         imbalance_buy_sell_flag  reference_price  matched_size  far_price  \\\n4621980                       -1         1.000062   22642235.17        NaN   \n4622180                       -1         1.000062   23694415.22        NaN   \n4622380                       -1         1.000252   23694415.22        NaN   \n4622580                       -1         1.000062   23694415.22        NaN   \n4622780                       -1         0.999873   23694415.22        NaN   \n...                          ...              ...           ...        ...   \n5235979                        0         1.001812   23777108.28   1.001812   \n5236179                        0         1.001812   23777108.28   1.001812   \n5236379                       -1         1.001812   23784351.66   1.001177   \n5236579                       -1         1.001812   23788288.28   1.001177   \n5236779                       -1         1.001812   23788288.28   1.000859   \n\n         near_price  bid_price   bid_size  ask_price   ask_size       wap  \\\n4621980         NaN   0.999873   10813.75   1.000062    5276.00  1.000000   \n4622180         NaN   1.000062   28437.64   1.000252   10554.00  1.000200   \n4622380         NaN   1.000252   17889.03   1.000631   19321.14  1.000434   \n4622580         NaN   1.000062   29440.08   1.000252   17044.71  1.000182   \n4622780         NaN   0.999873   42411.00   1.000252   69867.48  1.000016   \n...             ...        ...        ...        ...        ...       ...   \n5235979    1.001812   1.001812  176332.95   1.002129  113363.52  1.002005   \n5236179    1.001812   1.001812  218925.45   1.002129  194251.80  1.001980   \n5236379    1.001812   1.001812  233186.05   1.002129  226222.08  1.001973   \n5236579    1.001494   1.001812  245774.50   1.002129  394815.60  1.001934   \n5236779    1.001494   1.001812  333420.40   1.002129  407092.44  1.001955   \n\n           target  time_id       row_id  wap_t+60     index_wap  \\\n4621980  1.809597    23375      425_0_0  1.000141   9999.563875   \n4622180 -1.549721    23376     425_10_0  1.000120  10000.724572   \n4622380 -1.710057    23377     425_20_0  1.000082   9998.184514   \n4622580 -1.320243    23378     425_30_0  0.999920   9998.716657   \n4622780 -1.339912    23379     425_40_0  0.999977  10000.951828   \n...           ...      ...          ...       ...           ...   \n5235979  8.859634    26444  480_440_199  1.002835   9999.456817   \n5236179  9.020567    26445  480_450_199  1.002974  10000.949383   \n5236379  0.849962    26446  480_460_199  1.001982   9999.280319   \n5236579  0.760555    26447  480_470_199  1.001993   9999.848022   \n5236779  4.299879    26448  480_480_199  1.002274   9998.869866   \n\n         predicted_target  \n4621980          1.846125  \n4622180         -1.524412  \n4622380         -1.702987  \n4622580         -1.336180  \n4622780         -1.341822  \n...                   ...  \n5235979          8.826575  \n5236179          8.970975  \n5236379          0.809504  \n5236579          0.740839  \n5236779          4.313910  \n\n[539000 rows x 20 columns]",
      "text/html": "<div>\n<style scoped>\n    .dataframe tbody tr th:only-of-type {\n        vertical-align: middle;\n    }\n\n    .dataframe tbody tr th {\n        vertical-align: top;\n    }\n\n    .dataframe thead th {\n        text-align: right;\n    }\n</style>\n<table border=\"1\" class=\"dataframe\">\n  <thead>\n    <tr style=\"text-align: right;\">\n      <th></th>\n      <th>stock_id</th>\n      <th>date_id</th>\n      <th>seconds_in_bucket</th>\n      <th>imbalance_size</th>\n      <th>imbalance_buy_sell_flag</th>\n      <th>reference_price</th>\n      <th>matched_size</th>\n      <th>far_price</th>\n      <th>near_price</th>\n      <th>bid_price</th>\n      <th>bid_size</th>\n      <th>ask_price</th>\n      <th>ask_size</th>\n      <th>wap</th>\n      <th>target</th>\n      <th>time_id</th>\n      <th>row_id</th>\n      <th>wap_t+60</th>\n      <th>index_wap</th>\n      <th>predicted_target</th>\n    </tr>\n  </thead>\n  <tbody>\n    <tr>\n      <th>4621980</th>\n      <td>0</td>\n      <td>425</td>\n      <td>0</td>\n      <td>7218754.93</td>\n      <td>-1</td>\n      <td>1.000062</td>\n      <td>22642235.17</td>\n      <td>NaN</td>\n      <td>NaN</td>\n      <td>0.999873</td>\n      <td>10813.75</td>\n      <td>1.000062</td>\n      <td>5276.00</td>\n      <td>1.000000</td>\n      <td>1.809597</td>\n      <td>23375</td>\n      <td>425_0_0</td>\n      <td>1.000141</td>\n      <td>9999.563875</td>\n      <td>1.846125</td>\n    </tr>\n    <tr>\n      <th>4622180</th>\n      <td>0</td>\n      <td>425</td>\n      <td>10</td>\n      <td>6166574.88</td>\n      <td>-1</td>\n      <td>1.000062</td>\n      <td>23694415.22</td>\n      <td>NaN</td>\n      <td>NaN</td>\n      <td>1.000062</td>\n      <td>28437.64</td>\n      <td>1.000252</td>\n      <td>10554.00</td>\n      <td>1.000200</td>\n      <td>-1.549721</td>\n      <td>23376</td>\n      <td>425_10_0</td>\n      <td>1.000120</td>\n      <td>10000.724572</td>\n      <td>-1.524412</td>\n    </tr>\n    <tr>\n      <th>4622380</th>\n      <td>0</td>\n      <td>425</td>\n      <td>20</td>\n      <td>6179553.04</td>\n      <td>-1</td>\n      <td>1.000252</td>\n      <td>23694415.22</td>\n      <td>NaN</td>\n      <td>NaN</td>\n      <td>1.000252</td>\n      <td>17889.03</td>\n      <td>1.000631</td>\n      <td>19321.14</td>\n      <td>1.000434</td>\n      <td>-1.710057</td>\n      <td>23377</td>\n      <td>425_20_0</td>\n      <td>1.000082</td>\n      <td>9998.184514</td>\n      <td>-1.702987</td>\n    </tr>\n    <tr>\n      <th>4622580</th>\n      <td>0</td>\n      <td>425</td>\n      <td>30</td>\n      <td>6513133.79</td>\n      <td>-1</td>\n      <td>1.000062</td>\n      <td>23694415.22</td>\n      <td>NaN</td>\n      <td>NaN</td>\n      <td>1.000062</td>\n      <td>29440.08</td>\n      <td>1.000252</td>\n      <td>17044.71</td>\n      <td>1.000182</td>\n      <td>-1.320243</td>\n      <td>23378</td>\n      <td>425_30_0</td>\n      <td>0.999920</td>\n      <td>9998.716657</td>\n      <td>-1.336180</td>\n    </tr>\n    <tr>\n      <th>4622780</th>\n      <td>0</td>\n      <td>425</td>\n      <td>40</td>\n      <td>6492927.96</td>\n      <td>-1</td>\n      <td>0.999873</td>\n      <td>23694415.22</td>\n      <td>NaN</td>\n      <td>NaN</td>\n      <td>0.999873</td>\n      <td>42411.00</td>\n      <td>1.000252</td>\n      <td>69867.48</td>\n      <td>1.000016</td>\n      <td>-1.339912</td>\n      <td>23379</td>\n      <td>425_40_0</td>\n      <td>0.999977</td>\n      <td>10000.951828</td>\n      <td>-1.341822</td>\n    </tr>\n    <tr>\n      <th>...</th>\n      <td>...</td>\n      <td>...</td>\n      <td>...</td>\n      <td>...</td>\n      <td>...</td>\n      <td>...</td>\n      <td>...</td>\n      <td>...</td>\n      <td>...</td>\n      <td>...</td>\n      <td>...</td>\n      <td>...</td>\n      <td>...</td>\n      <td>...</td>\n      <td>...</td>\n      <td>...</td>\n      <td>...</td>\n      <td>...</td>\n      <td>...</td>\n      <td>...</td>\n    </tr>\n    <tr>\n      <th>5235979</th>\n      <td>199</td>\n      <td>480</td>\n      <td>440</td>\n      <td>0.00</td>\n      <td>0</td>\n      <td>1.001812</td>\n      <td>23777108.28</td>\n      <td>1.001812</td>\n      <td>1.001812</td>\n      <td>1.001812</td>\n      <td>176332.95</td>\n      <td>1.002129</td>\n      <td>113363.52</td>\n      <td>1.002005</td>\n      <td>8.859634</td>\n      <td>26444</td>\n      <td>480_440_199</td>\n      <td>1.002835</td>\n      <td>9999.456817</td>\n      <td>8.826575</td>\n    </tr>\n    <tr>\n      <th>5236179</th>\n      <td>199</td>\n      <td>480</td>\n      <td>450</td>\n      <td>0.00</td>\n      <td>0</td>\n      <td>1.001812</td>\n      <td>23777108.28</td>\n      <td>1.001812</td>\n      <td>1.001812</td>\n      <td>1.001812</td>\n      <td>218925.45</td>\n      <td>1.002129</td>\n      <td>194251.80</td>\n      <td>1.001980</td>\n      <td>9.020567</td>\n      <td>26445</td>\n      <td>480_450_199</td>\n      <td>1.002974</td>\n      <td>10000.949383</td>\n      <td>8.970975</td>\n    </tr>\n    <tr>\n      <th>5236379</th>\n      <td>199</td>\n      <td>480</td>\n      <td>460</td>\n      <td>135671.59</td>\n      <td>-1</td>\n      <td>1.001812</td>\n      <td>23784351.66</td>\n      <td>1.001177</td>\n      <td>1.001812</td>\n      <td>1.001812</td>\n      <td>233186.05</td>\n      <td>1.002129</td>\n      <td>226222.08</td>\n      <td>1.001973</td>\n      <td>0.849962</td>\n      <td>26446</td>\n      <td>480_460_199</td>\n      <td>1.001982</td>\n      <td>9999.280319</td>\n      <td>0.809504</td>\n    </tr>\n    <tr>\n      <th>5236579</th>\n      <td>199</td>\n      <td>480</td>\n      <td>470</td>\n      <td>796236.05</td>\n      <td>-1</td>\n      <td>1.001812</td>\n      <td>23788288.28</td>\n      <td>1.001177</td>\n      <td>1.001494</td>\n      <td>1.001812</td>\n      <td>245774.50</td>\n      <td>1.002129</td>\n      <td>394815.60</td>\n      <td>1.001934</td>\n      <td>0.760555</td>\n      <td>26447</td>\n      <td>480_470_199</td>\n      <td>1.001993</td>\n      <td>9999.848022</td>\n      <td>0.740839</td>\n    </tr>\n    <tr>\n      <th>5236779</th>\n      <td>199</td>\n      <td>480</td>\n      <td>480</td>\n      <td>1542650.27</td>\n      <td>-1</td>\n      <td>1.001812</td>\n      <td>23788288.28</td>\n      <td>1.000859</td>\n      <td>1.001494</td>\n      <td>1.001812</td>\n      <td>333420.40</td>\n      <td>1.002129</td>\n      <td>407092.44</td>\n      <td>1.001955</td>\n      <td>4.299879</td>\n      <td>26448</td>\n      <td>480_480_199</td>\n      <td>1.002274</td>\n      <td>9998.869866</td>\n      <td>4.313910</td>\n    </tr>\n  </tbody>\n</table>\n<p>539000 rows × 20 columns</p>\n</div>"
     },
     "execution_count": 7,
     "metadata": {},
     "output_type": "execute_result"
    }
   ],
   "source": [
    "df_test"
   ],
   "metadata": {
    "collapsed": false,
    "ExecuteTime": {
     "end_time": "2024-04-29T19:07:40.098246Z",
     "start_time": "2024-04-29T19:07:40.090129Z"
    }
   }
  },
  {
   "cell_type": "code",
   "execution_count": 22,
   "outputs": [],
   "source": [
    "import csv\n",
    "\n",
    "with open('index_return_coef.csv', 'w', newline='') as file:\n",
    "    # Create a CSV writer object\n",
    "    writer = csv.writer(file)\n",
    "    for i, weight in enumerate(WEIGHTS):\n",
    "        writer.writerow([i, weight])\n",
    "    writer.writerow([i + 1, intercept])"
   ],
   "metadata": {
    "collapsed": false,
    "ExecuteTime": {
     "end_time": "2024-04-29T19:30:20.033964Z",
     "start_time": "2024-04-29T19:30:20.022066Z"
    }
   }
  },
  {
   "cell_type": "code",
   "execution_count": null,
   "outputs": [],
   "source": [],
   "metadata": {
    "collapsed": false
   }
  }
 ],
 "metadata": {
  "kernelspec": {
   "display_name": "venv",
   "language": "python",
   "name": "python3"
  },
  "language_info": {
   "codemirror_mode": {
    "name": "ipython",
    "version": 3
   },
   "file_extension": ".py",
   "mimetype": "text/x-python",
   "name": "python",
   "nbconvert_exporter": "python",
   "pygments_lexer": "ipython3",
   "version": "3.8.10"
  }
 },
 "nbformat": 4,
 "nbformat_minor": 2
}
